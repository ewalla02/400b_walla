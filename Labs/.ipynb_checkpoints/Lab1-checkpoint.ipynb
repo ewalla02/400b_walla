{
 "cells": [
  {
   "cell_type": "markdown",
   "metadata": {},
   "source": [
    "# In Class Lab 1\n",
    "\n",
    "## Part A:  The Local Standard of Rest\n",
    "Proper motion of Sgr A* from Reid & Brunthaler 2004\n",
    "$\\mu = 6.379$ mas/yr \n",
    "\n",
    "Peculiar motion of the sun, $v_\\odot$ = 12.24 km/s  (Schonrich 2010)\n",
    "\n",
    "\n",
    "$v_{tan} = 4.74 \\frac{\\mu}{\\rm mas/yr} \\frac{R_o}{\\rm kpc} = V_{LSR} + v_\\odot$\n",
    "\n",
    "\n",
    "### a)\n",
    "\n",
    "Create a function called VLSR to compute the local standard of res (V$_{LSR}$).\n",
    "\n",
    "The function should take as input: the solar radius (R$_o$), the proper motion (mu)\n",
    "and the peculiar motion of the sun in the $v_\\odot$ direction.\n",
    "\n",
    "Compute V$_{LSR}$ using three different values R$_o$: \n",
    "1. Water Maser Distance for the Sun :  R$_o$ = 8.34 kpc   (Reid 2014 ApJ 783) \n",
    "2. GRAVITY Collaboration Distance for the Sun:  R$_o$ = 8.178 kpc   (Abuter+2019 A&A 625)\n",
    "3. Value for Distance to Sun listed in Sparke & Gallagher : R$_o$ = 7.9 kpc \n"
   ]
  },
  {
   "cell_type": "code",
   "execution_count": 2,
   "metadata": {},
   "outputs": [],
   "source": [
    "import numpy as np"
   ]
  },
  {
   "cell_type": "code",
   "execution_count": 1,
   "metadata": {},
   "outputs": [],
   "source": [
    "\n",
    "# Function calculates the local standard of rest (VLSR)\n",
    "\n",
    "# Function uses following equation:\n",
    "# 4.74*mu*Ro - vsun= VLSR\n",
    "\n",
    "def VLSR(Ro,mu=6.379, vsun=12.24):\n",
    "    # inputs:  Ro --> distance of sun from galactic center (kpc)\n",
    "    #          mu --> proper motion of SgrA* (mas/yr): constant: 6.379 mas/yr (Default from Reid & Brunthaler 2004)\n",
    "    #          vsun --> peculiar motion of the sun in vsun direction (km/s) : 12.24 km/s (Default from Schonrich+2010)\n",
    "    \n",
    "    # returns: VLSR (local standard of rest) (km/s)\n",
    "    \n",
    "    return 4.74*mu*Ro - vsun\n",
    "    "
   ]
  },
  {
   "cell_type": "code",
   "execution_count": 4,
   "metadata": {},
   "outputs": [],
   "source": [
    "# Ro input values\n",
    "RoReid = 8.34      # distance to galactic center from Reid+2014 (kpc)\n",
    "RoGRAVITY = 8.178  # distance to galactic center from GRAVITY collab Abuter+2019 (kpc)\n",
    "RoSG = 7.9         # distance to galactic center from textbook by Sparke & Gallagher\n"
   ]
  },
  {
   "cell_type": "code",
   "execution_count": 15,
   "metadata": {},
   "outputs": [
    {
     "name": "stdout",
     "output_type": "stream",
     "text": [
      "('Reid+2014:', 239.9320764)\n"
     ]
    }
   ],
   "source": [
    "# compute VLSR using the Reid2014 value for Ro\n",
    "VLSR_Reid = VLSR(RoReid)\n",
    "print(\"Reid+2014:\", VLSR_Reid)"
   ]
  },
  {
   "cell_type": "code",
   "execution_count": 16,
   "metadata": {},
   "outputs": [
    {
     "name": "stdout",
     "output_type": "stream",
     "text": [
      "('GRAVITY, Abuter+2019:', 235.03376988000002)\n"
     ]
    }
   ],
   "source": [
    "# compute VLSR using the GRAVITY value for Ro\n",
    "VLSR_GRAVITY = VLSR(RoGRAVITY)\n",
    "print(\"GRAVITY, Abuter+2019:\", VLSR_GRAVITY)"
   ]
  },
  {
   "cell_type": "code",
   "execution_count": 18,
   "metadata": {},
   "outputs": [
    {
     "name": "stdout",
     "output_type": "stream",
     "text": [
      "('Textbook, Spark and Gallagher:', 226.628034)\n"
     ]
    }
   ],
   "source": [
    "# compute VLSR using the Sparke & Gallagher value for Ro\n",
    "VLSR_SG = VLSR(RoSG)\n",
    "print(\"Textbook, Spark and Gallagher:\", VLSR_SG)"
   ]
  },
  {
   "cell_type": "markdown",
   "metadata": {},
   "source": [
    "### b)\n",
    "\n",
    "compute the orbital period of the sun using R$_o$ from the GRAVITY Collaboration (assume circular orbit)\n",
    "\n",
    "Note that 1 km/s $\\sim$ 1kpc/Gyr"
   ]
  },
  {
   "cell_type": "code",
   "execution_count": 19,
   "metadata": {},
   "outputs": [
    {
     "name": "stdout",
     "output_type": "stream",
     "text": [
      "0.207801617887\n"
     ]
    }
   ],
   "source": [
    "# compute Orbital period of Sun using Ro from GRAVITY Collab (Abuter+2019)\n",
    "# T = 2*pi*R/v --> kpc/km/s ~ kpc/(kpc/Gyr) = Gyr\n",
    "# v = vtan = VLSR + vsun\n",
    "\n",
    "vsun = 12.24 # see VLSR function\n",
    "vtan = VLSR_GRAVITY + 12.24\n",
    "Period_GRAVITY = 2*np.pi*RoGRAVITY/vtan\n",
    "\n",
    "print(Period_GRAVITY) # orbital period in Gyr"
   ]
  },
  {
   "cell_type": "markdown",
   "metadata": {},
   "source": [
    "### c)\n",
    "\n",
    "Compute the number of rotations about the GC over the age of the universe (13.8 Gyr)"
   ]
  },
  {
   "cell_type": "code",
   "execution_count": 20,
   "metadata": {},
   "outputs": [
    {
     "name": "stdout",
     "output_type": "stream",
     "text": [
      "66.4094925743\n"
     ]
    }
   ],
   "source": [
    "# number of rotations about the galactic center the sun has completed over the age of the universe\n",
    "# Universe Age/Orbital Period\n",
    "number_rotations = 13.8/Period_GRAVITY\n",
    "print(number_rotations)"
   ]
  },
  {
   "cell_type": "markdown",
   "metadata": {},
   "source": [
    "## Part B  Dark Matter Density Profiles\n",
    "\n",
    "### a)\n",
    "Try out Fitting Rotation Curves \n",
    "[here](http://wittman.physics.ucdavis.edu/Animations/RotationCurve/GalacticRotation.html)\n",
    "\n",
    "\n",
    "### b)\n",
    "\n",
    "In the Isothermal Sphere model, what is the mass enclosed within the solar radius (R$_o$) in units of $10^{10}$ M$_\\odot$? \n",
    "\n",
    "Recall that for the Isothermal sphere :\n",
    "$\\rho(r) = \\frac{V_{LSR}^2}{4\\pi G r^2}$\n",
    "\n",
    "Where $G$ = 4.4988e-6 kpc$^3$/Gyr$^2$/M$_\\odot$\n",
    "\n",
    "What about at 260 kpc (in units of 10$^{12}$ M$_\\odot$) ? "
   ]
  },
  {
   "cell_type": "code",
   "execution_count": 23,
   "metadata": {},
   "outputs": [],
   "source": [
    "# define gravitational constant\n",
    "G = 4.4988e-6 #(kpc^2/Gyr^2/Msun)"
   ]
  },
  {
   "cell_type": "code",
   "execution_count": 24,
   "metadata": {},
   "outputs": [],
   "source": [
    "# Calculate Mass enclosed within a given radius assuming:\n",
    "# Isothermal Sphere Model\n",
    "\n",
    "# density profile: density = VLSR^2/4piGr^2\n",
    "# density = M/V = 4/3 * M/r^3\n",
    "# M = Integrate density dV\n",
    "#     Integrate density 4*pi*r^2dr\n",
    "#     Integrate VLSR^2/4*pi*G*r^2 * 4*pi*r^2dr\n",
    "#     Integrate VLSR^2/G dr\n",
    "# M = VLSR^2/G * r\n",
    "\n",
    "# BEGIN FUNCTION\n",
    "\n",
    "# function below will compute the mass enclosed within an input radius:\n",
    "\n",
    "def MassIso(r, VLSR=235):\n",
    "    # inputs:    VLSR: local standard of rest (km/s) \n",
    "    #                  --> default VLSR calculated from GRAVITY Collaboration's Ro (defined above)   \n",
    "    #               r: distance from galactic center (kpc)\n",
    "    \n",
    "    # returns:   Mass enclosed in the radius in Isothermal Sphere Model of Galaxy (Msun)\n",
    "    \n",
    "    return r*VLSR**2/G \n"
   ]
  },
  {
   "cell_type": "code",
   "execution_count": 26,
   "metadata": {},
   "outputs": [
    {
     "name": "stdout",
     "output_type": "stream",
     "text": [
      "10.0389003734\n"
     ]
    }
   ],
   "source": [
    "# Compute mass enclosed within Ro\n",
    "MIsoSolar = MassIso(RoGRAVITY)\n",
    "print(MIsoSolar/1e10) # units in 1e10 Msun"
   ]
  },
  {
   "cell_type": "code",
   "execution_count": 27,
   "metadata": {},
   "outputs": [
    {
     "name": "stdout",
     "output_type": "stream",
     "text": [
      "319.162887881\n"
     ]
    }
   ],
   "source": [
    "# Compute Mass enclosed within 260 kpc:\n",
    "MIso260 = MassIso(260)\n",
    "print(MIso260/1e10) # units in 1e10 Msun"
   ]
  },
  {
   "cell_type": "markdown",
   "metadata": {},
   "source": [
    "## c) \n",
    "\n",
    "The Leo I satellite is one of the fastest moving satellite galaxies we know. \n",
    "\n",
    "\n",
    "It is moving with 3D velocity of magnitude: Vtot = 196 km/s at a distance of 260 kpc (Sohn 2013 ApJ 768)\n",
    "\n",
    "If we assume that Leo I is moving at the escape speed:\n",
    "\n",
    "$v_{esc}^2 = 2|\\Phi| = 2 \\int G \\frac{\\rho(r)}{r}dV $ \n",
    "\n",
    "and assuming the Milky Way is well modeled by a Hernquist Sphere with a scale radius of $a$= 30 kpc, what is the minimum mass of the Milky Way (in units of $10^{12}$ M$_\\odot$) ?  \n",
    "\n",
    "How does this compare to estimates of the mass assuming the Isothermal Sphere model at 260 kpc (from your answer above)"
   ]
  },
  {
   "cell_type": "code",
   "execution_count": 28,
   "metadata": {},
   "outputs": [],
   "source": [
    "# Potential for a Hernquist Sphere:\n",
    "# Phi = - G*M/(r+a)\n",
    "# a = scale radius = 30 kpc\n",
    "\n",
    "# Using Hernquist potential, the equation for the escape speed is:\n",
    "# v_esc^2 = 2*Phi = 2*G*M/(r+a)\n",
    "# rearrange esc speed equation to yield M\n",
    "# M = v_esc^2*(r+a)/(2*G)\n",
    "#   = 196**2*(r+30)/(2*G)\n",
    "# r = 260\n",
    "\n",
    "# Function to determine total halo mass needed to set a given escape velocity at a given distance\n",
    "#     assuming a Hernquist profile for dark matter halo\n",
    "\n",
    "def MassFromVesc(r,vesc, a):\n",
    "    # inputs:    r : distance from galactic center (kpc)\n",
    "    #            vesc : escape speed (km/s) [speed of satellite you are looking at]\n",
    "    #            a : Hernquist scale length (kpc)\n",
    "    \n",
    "    # returns:   Total mass enclosed within the given radius (Msun)\n",
    "    \n",
    "    return (vesc**2)*(r+a)/(2*G)"
   ]
  },
  {
   "cell_type": "code",
   "execution_count": 29,
   "metadata": {},
   "outputs": [
    {
     "name": "stdout",
     "output_type": "stream",
     "text": [
      "1.23817906997\n"
     ]
    }
   ],
   "source": [
    "# mass needed to keep Leo1 bound assuming Hernquist profile\n",
    "MassBindsLeo1 = MassFromVesc(260,196,30)\n",
    "print(MassBindsLeo1/1e12)"
   ]
  },
  {
   "cell_type": "code",
   "execution_count": 30,
   "metadata": {},
   "outputs": [
    {
     "name": "stdout",
     "output_type": "stream",
     "text": [
      "2.5776795588\n"
     ]
    }
   ],
   "source": [
    "# compare Mass binding Leo1 to the Mass assuming Isothermal Sphere Model:\n",
    "print(MIso260/MassBindsLeo1)"
   ]
  },
  {
   "cell_type": "code",
   "execution_count": null,
   "metadata": {},
   "outputs": [],
   "source": []
  }
 ],
 "metadata": {
  "kernelspec": {
   "display_name": "Python 2",
   "language": "python",
   "name": "python2"
  },
  "language_info": {
   "codemirror_mode": {
    "name": "ipython",
    "version": 2
   },
   "file_extension": ".py",
   "mimetype": "text/x-python",
   "name": "python",
   "nbconvert_exporter": "python",
   "pygments_lexer": "ipython2",
   "version": "2.7.12"
  }
 },
 "nbformat": 4,
 "nbformat_minor": 2
}
