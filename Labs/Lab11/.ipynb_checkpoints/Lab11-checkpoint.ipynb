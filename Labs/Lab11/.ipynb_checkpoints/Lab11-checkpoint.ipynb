{
 "cells": [
  {
   "cell_type": "markdown",
   "metadata": {
    "ExecuteTime": {
     "end_time": "2020-01-26T08:48:31.926693Z",
     "start_time": "2020-01-26T08:48:31.923116Z"
    }
   },
   "source": [
    "# Lab 11 Dynamical Friction\n",
    "\n",
    "Starting from the Homework 7 Solutions, add Dynamical Friction to better match the simulation data. \n",
    "\n"
   ]
  },
  {
   "cell_type": "code",
   "execution_count": 1,
   "metadata": {
    "ExecuteTime": {
     "end_time": "2020-03-16T03:13:30.748911Z",
     "start_time": "2020-03-16T03:13:30.745053Z"
    }
   },
   "outputs": [],
   "source": [
    "# import necessary modules\n",
    "# numpy provides powerful multi-dimensional arrays to hold and manipulate data\n",
    "import numpy as np\n",
    "# matplotlib provides powerful functions for plotting figures\n",
    "import matplotlib.pyplot as plt\n",
    "# astropy provides unit system and constants for astronomical calculations\n",
    "import astropy.units as u\n",
    "import astropy.constants as const\n",
    "# import Latex module so we can display the results with symbols\n",
    "from IPython.display import Latex\n",
    "%matplotlib inline\n",
    "\n",
    "# import the CenterOfMass to determine the COM pos/vel of M33\n",
    "from CenterOfMass2 import CenterOfMass\n",
    "# import the GalaxyMass to determine the mass of M31 for each component\n",
    "from GalaxyMass import ComponentMass"
   ]
  },
  {
   "cell_type": "markdown",
   "metadata": {},
   "source": [
    "# M33AnalyticOrbit\n",
    "\n",
    "1. Add a new variable to the initializer for the class,  `self.M33halo`,  that defines M33's halo mass.\n",
    "\n",
    "2. Add a new varaible to the initialization of the class, `self.Vc`, the circular speed at large radii from M31. Let's assume this is flat at $V_c$ = 200 km/s in the M31 halo outskirts.  or 230 from Homework 5\n",
    "\n",
    "3. Add a function called `DynamicalFriction` that takes as inputs (Msat,r,v), and computes the acceleration, assuming an isothermal sphere profile for the dark matter halo of M31.\n",
    "\n",
    "$ {\\bf a} =  -0.428 \\frac{GM_{\\rm sat} \\rm{ln}(\\Lambda)}{r^2} \\frac{\\bf v}{v} $ \n",
    "\n",
    "Where the ${\\rm ln}(\\Lambda)$ is the Coulomb logairthm \n",
    "\n",
    "$\\Lambda = \\frac{bmax}{bmin} $\n",
    "\n",
    "$bmax$ = the current separation between M31 and M33 and \n",
    "\n",
    "$bmin = \\frac{GM_{sat}}{V_c^2}$\n",
    "\n",
    "4. Include this function in `M33Accel`.  Note that it will require a new input, v (velocity vector). This must be accounted for also when M33Accel is called in LeapFrog \n",
    "\n",
    "5. If the orbit doesn't match well. Add a fudge factor (`self.fudge`) that is some fraction of 1 to decrease the strength of the dynamical friction term. \n",
    "\n",
    "6. What other reasons might there be for why the orbits don't match?"
   ]
  },
  {
   "cell_type": "code",
   "execution_count": 4,
   "metadata": {
    "ExecuteTime": {
     "end_time": "2020-03-16T03:08:14.820296Z",
     "start_time": "2020-03-16T03:08:14.800707Z"
    }
   },
   "outputs": [],
   "source": [
    "class M33AnalyticOrbit:\n",
    "    \"\"\" Calculate the analytical orbit of M33 around M31 \"\"\"\n",
    "    \n",
    "    def __init__(self, filename):\n",
    "        \"\"\" Initialize the class with the current properties of M33 \n",
    "        input: filename, string denoting the name of the file in which the output orbit will be stored \"\"\"\n",
    "        \n",
    "        # get the gravitational constant (the value is 4.498502151575286e-06)\n",
    "        self.G = const.G.to(u.kpc**3/u.Msun/u.Gyr**2).value\n",
    "        \n",
    "        # store the output file name\n",
    "        self.filename = filename\n",
    "        \n",
    "        # get the current pos/vel of M33 relative to M31\n",
    "        M33_COM = CenterOfMass(\"/home/astr400b/LowRes/M33_000.txt\", 2)\n",
    "        self.r0 = M33_COM.COM_P(0.1, 4)  # equivalently could have set self.x self.y self.z to each component.\n",
    "        self.v0 = M33_COM.COM_V(self.r0[0], self.r0[1],self.r0[2]).value\n",
    "        self.r0 = self.r0.value\n",
    "        \n",
    "        M31_COM = CenterOfMass(\"/home/astr400b/LowRes/M31_000.txt\", 2)\n",
    "        M31_r0 = M31_COM.COM_P(0.1, 2)\n",
    "        self.r0 -= M31_r0.value #  subtract out the M31 COM Position from the previously defined values\n",
    "        self.v0 -= M31_COM.COM_V(M31_r0[0], M31_r0[1], M31_r0[2]).value   \n",
    "        # subtract out the M31 COM velocity from the previously defined values\n",
    "        \n",
    "        # get the mass of each component in M31 \n",
    "        # disk\n",
    "        self.rdisk = 5.0 # set the scale length \n",
    "        self.Mdisk = ComponentMass(\"/home/astr400b/LowRes/M31_000.txt\", 2)*1e12\n",
    "        \n",
    "        # bulge\n",
    "        self.rbulge = 1.0 # set the bulge scale length\n",
    "        self.Mbulge = ComponentMass(\"/home/astr400b/LowRes/M31_000.txt\", 3)*1e12\n",
    "        \n",
    "        # Halo\n",
    "        self.rhalo = 61.58 # use the Hernquist scale length (a) computed in HW5\n",
    "        self.Mhalo = ComponentMass(\"/home/astr400b/LowRes/M31_000.txt\", 1)*1e12\n",
    "      \n",
    "    \n",
    "        ### ADD M33 HALO MASS HERE #### \n",
    "        self.M33halo = ComponentMass(\"/home/astr400b/LowRes/M33_000.txt\", 1)*1e12\n",
    "        \n",
    "        ### ADD M31 CIRCULAR SPEED HERE ### \n",
    "        self.Vc = 230\n",
    "        \n",
    "        ### Fudge factor ## \n",
    "    \n",
    "    \n",
    "    \n",
    "    def HenquistAccel(self, M, r_a, r):\n",
    "        \"\"\" Compute the Hernquist profile acceleration \n",
    "        Inputs :  M the Hernquist mass (Msun)\n",
    "                r_a the Hernquist scale length (kpc)\n",
    "                r the position vector [ x, y, z]\n",
    "        Returns:  the Acceleration vector for a Hernquist profile [Ax, Ay, Az]\"\"\"\n",
    "        \n",
    "        # follow the formula in the HW instructions\n",
    "        r_mag = np.sqrt(np.sum(r**2))\n",
    "        return -self.G * M / (r_mag * (r_a + r_mag)**2) * r\n",
    "    \n",
    "    def MiyamotoNagaiAccel(self, M, rd, r):\n",
    "        \"\"\" Compute the Miyamoto-Nagai profile acceleration\n",
    "        Inputs:  M  the disk mass (Msun)\n",
    "                rd the disk scale length (kpc)\n",
    "                r the position vector [ x, y, z]\n",
    "        Returns: the Acceleration vector for a Miyamoto-Nagai profile [Ax, Ay, Az] \"\"\"\n",
    "        \n",
    "        # follow the formula in the HW instructions\n",
    "        R2 = np.sum(r[:2]**2)\n",
    "        zd = rd / 5.0\n",
    "        B = rd + np.sqrt(r[2]**2 + zd**2)\n",
    "        return -self.G * M / (R2 + B**2)**1.5 * r * np.array([1, 1, B/(B-rd)]) \n",
    "        # the np.array allows for a different value for the z component of the acceleration\n",
    "  \n",
    "\n",
    "    ########### ADD Dynamical Friction Term Here ##################\n",
    "    def DynamicalFriction(self, Msat, Vc, r, v):\n",
    "            \"\"\" Fucntion Compute dynamical friction on the satellite galaxy\n",
    "            a = -0.428 G * Msat ln(Lambda) * rmag*2 * v/vmag\n",
    "            inputs: Msat: satellite mass in msun\n",
    "                    Vc: circular speed at large radii from M31\n",
    "                    r: position vector of M33\n",
    "                    v: velocity vector of M33\n",
    "            returns: the acceleration vector caused by Dynamical Friction\n",
    "            \"\"\"\n",
    "            rmag = np.sqrt(r[0]**2 + r[1]**2 + r[2]**2)\n",
    "            vmag = np.sqrt(v[0]**2 + v[1]**2 + v[2]**2)\n",
    "            \n",
    "            #coulomb logarithm, ln(lambda)\n",
    "            bmax = rmag # current separation bt M33 and M31\n",
    "            bmin = self.G*Msat/Vc**2     # G Msat /Vc^2\n",
    "            Coulomb = np.long(bmax/bmin)\n",
    "            \n",
    "            return -0.428*self.G*Msat*Coulomb*rmag**2*v/vmag\n",
    "    \n",
    "    \n",
    "        \n",
    "    ##### ADD v to M31Accel input #### \n",
    "    def M31Accel(self, r, v):\n",
    "        \"\"\" Compute the total acceleration from M31\n",
    "        Input: r the position vector [ x, y, z]\n",
    "               v: the veloicty vector\n",
    "        Returns: A vector for the total acceleration (halo+ bulge+ disk) [ Ax, Ay, Az]\"\"\"\n",
    "        \n",
    "        ###### ADD DYNAMICAL FRICTION HERE\n",
    "        return self.HenquistAccel(self.Mhalo, self.rhalo, r) \\\n",
    "             + self.HenquistAccel(self.Mbulge, self.rbulge, r) \\\n",
    "             + self.MiyamotoNagaiAccel(self.Mdisk, self.rdisk, r) \\\n",
    "             + self.DynamicalFriction(self.M33halo, self.Vc, r, v)\n",
    "    \n",
    "    def LeapFrog(self, dt, r, v):\n",
    "        \"\"\" perform one step Leap Frog integration for M33\n",
    "        Input: dt time step in Gyr\n",
    "            r the current position vector [ x, y, z] \n",
    "            v the currentvelocity vector [ vx, vy, vz]\n",
    "        Returns:  Advances the position and velocity vectors by one timestep \"\"\"\n",
    "        \n",
    "        # predict the position at the next half timestep\n",
    "        rhalf = r + v * dt / 2.0\n",
    "        \n",
    "        # compute the velocity at the next timestep\n",
    "        ##### ADD v to M31Accel ### \n",
    "        vnext = v + self.M31Accel(rhalf, v) * dt\n",
    "        \n",
    "        # compute the position at the next timestep\n",
    "        rnext = r + (vnext+v)/2.0 * dt \n",
    "        \n",
    "        return rnext, vnext\n",
    "    \n",
    "    def OrbitIntegration(self, t0, dt, tmax):\n",
    "        \"\"\" Compute the orbit of M33 using the LeapFrog Scheme\n",
    "        Input:  t0 the current time in Gyr\n",
    "                dt the time step in Gyr\n",
    "                tmax the final time in Gyr\n",
    "        Returns: Generates a file with the original filename given when the class was initialized that stores\n",
    "                the output of the orbit.\"\"\"\n",
    "        \n",
    "        # initialize the time, counter, and the orbit array\n",
    "        t = t0\n",
    "        i = 1\n",
    "        orbit = np.zeros([int(tmax/dt)+2, 7])\n",
    "        \n",
    "        orbit[0] = t0, *tuple(self.r0), *tuple(self.v0)\n",
    "        \n",
    "        # start the integration\n",
    "        while (t < tmax):\n",
    "            # move forward the time by one timestep\n",
    "            t += dt\n",
    "            orbit[i, 0] = t\n",
    "            # integrate the position and velocity using the LeapFrog scheme\n",
    "            orbit[i, 1:4], orbit[i, 4:] = \\\n",
    "                self.LeapFrog(dt, orbit[i-1, 1:4], orbit[i-1, 4:])\n",
    "            \n",
    "            i += 1 # update counter\n",
    "        \n",
    "        # write the data to a file\n",
    "        np.savetxt(self.filename, orbit, fmt = \"%11.3f\"*7, comments='#', \n",
    "                   header=\"{:>10s}{:>11s}{:>11s}{:>11s}{:>11s}{:>11s}{:>11s}\"\\\n",
    "                   .format('t', 'x', 'y', 'z', 'vx', 'vy', 'vz'))\n",
    "        "
   ]
  },
  {
   "cell_type": "code",
   "execution_count": 5,
   "metadata": {
    "ExecuteTime": {
     "end_time": "2020-03-16T03:08:16.418718Z",
     "start_time": "2020-03-16T03:08:15.552091Z"
    }
   },
   "outputs": [
    {
     "name": "stderr",
     "output_type": "stream",
     "text": [
      "/home/ewalla02/anaconda3/lib/python3.7/site-packages/ipykernel_launcher.py:94: RuntimeWarning: overflow encountered in multiply\n",
      "/home/ewalla02/anaconda3/lib/python3.7/site-packages/ipykernel_launcher.py:59: RuntimeWarning: invalid value encountered in multiply\n",
      "/home/ewalla02/anaconda3/lib/python3.7/site-packages/ipykernel_launcher.py:72: RuntimeWarning: invalid value encountered in multiply\n",
      "/home/ewalla02/anaconda3/lib/python3.7/site-packages/ipykernel_launcher.py:72: RuntimeWarning: invalid value encountered in double_scalars\n"
     ]
    },
    {
     "ename": "OverflowError",
     "evalue": "cannot convert float infinity to integer",
     "output_type": "error",
     "traceback": [
      "\u001b[0;31m---------------------------------------------------------------------------\u001b[0m",
      "\u001b[0;31mOverflowError\u001b[0m                             Traceback (most recent call last)",
      "\u001b[0;32m<ipython-input-5-7d650c22d9e2>\u001b[0m in \u001b[0;36m<module>\u001b[0;34m\u001b[0m\n\u001b[1;32m      1\u001b[0m \u001b[0mM33\u001b[0m \u001b[0;34m=\u001b[0m \u001b[0mM33AnalyticOrbit\u001b[0m\u001b[0;34m(\u001b[0m\u001b[0;34m\"M33AnalyticOrbit.txt\"\u001b[0m\u001b[0;34m)\u001b[0m\u001b[0;34m\u001b[0m\u001b[0;34m\u001b[0m\u001b[0m\n\u001b[0;32m----> 2\u001b[0;31m \u001b[0mM33\u001b[0m\u001b[0;34m.\u001b[0m\u001b[0mOrbitIntegration\u001b[0m\u001b[0;34m(\u001b[0m\u001b[0;36m0\u001b[0m\u001b[0;34m,\u001b[0m \u001b[0;36m0.1\u001b[0m\u001b[0;34m,\u001b[0m \u001b[0;36m10.\u001b[0m\u001b[0;34m)\u001b[0m\u001b[0;34m\u001b[0m\u001b[0;34m\u001b[0m\u001b[0m\n\u001b[0m",
      "\u001b[0;32m<ipython-input-4-5ff344884948>\u001b[0m in \u001b[0;36mOrbitIntegration\u001b[0;34m(self, t0, dt, tmax)\u001b[0m\n\u001b[1;32m    150\u001b[0m             \u001b[0;31m# integrate the position and velocity using the LeapFrog scheme\u001b[0m\u001b[0;34m\u001b[0m\u001b[0;34m\u001b[0m\u001b[0;34m\u001b[0m\u001b[0m\n\u001b[1;32m    151\u001b[0m             \u001b[0morbit\u001b[0m\u001b[0;34m[\u001b[0m\u001b[0mi\u001b[0m\u001b[0;34m,\u001b[0m \u001b[0;36m1\u001b[0m\u001b[0;34m:\u001b[0m\u001b[0;36m4\u001b[0m\u001b[0;34m]\u001b[0m\u001b[0;34m,\u001b[0m \u001b[0morbit\u001b[0m\u001b[0;34m[\u001b[0m\u001b[0mi\u001b[0m\u001b[0;34m,\u001b[0m \u001b[0;36m4\u001b[0m\u001b[0;34m:\u001b[0m\u001b[0;34m]\u001b[0m \u001b[0;34m=\u001b[0m\u001b[0;31m \u001b[0m\u001b[0;31m\\\u001b[0m\u001b[0;34m\u001b[0m\u001b[0;34m\u001b[0m\u001b[0m\n\u001b[0;32m--> 152\u001b[0;31m                 \u001b[0mself\u001b[0m\u001b[0;34m.\u001b[0m\u001b[0mLeapFrog\u001b[0m\u001b[0;34m(\u001b[0m\u001b[0mdt\u001b[0m\u001b[0;34m,\u001b[0m \u001b[0morbit\u001b[0m\u001b[0;34m[\u001b[0m\u001b[0mi\u001b[0m\u001b[0;34m-\u001b[0m\u001b[0;36m1\u001b[0m\u001b[0;34m,\u001b[0m \u001b[0;36m1\u001b[0m\u001b[0;34m:\u001b[0m\u001b[0;36m4\u001b[0m\u001b[0;34m]\u001b[0m\u001b[0;34m,\u001b[0m \u001b[0morbit\u001b[0m\u001b[0;34m[\u001b[0m\u001b[0mi\u001b[0m\u001b[0;34m-\u001b[0m\u001b[0;36m1\u001b[0m\u001b[0;34m,\u001b[0m \u001b[0;36m4\u001b[0m\u001b[0;34m:\u001b[0m\u001b[0;34m]\u001b[0m\u001b[0;34m)\u001b[0m\u001b[0;34m\u001b[0m\u001b[0;34m\u001b[0m\u001b[0m\n\u001b[0m\u001b[1;32m    153\u001b[0m \u001b[0;34m\u001b[0m\u001b[0m\n\u001b[1;32m    154\u001b[0m             \u001b[0mi\u001b[0m \u001b[0;34m+=\u001b[0m \u001b[0;36m1\u001b[0m \u001b[0;31m# update counter\u001b[0m\u001b[0;34m\u001b[0m\u001b[0;34m\u001b[0m\u001b[0m\n",
      "\u001b[0;32m<ipython-input-4-5ff344884948>\u001b[0m in \u001b[0;36mLeapFrog\u001b[0;34m(self, dt, r, v)\u001b[0m\n\u001b[1;32m    121\u001b[0m         \u001b[0;31m# compute the velocity at the next timestep\u001b[0m\u001b[0;34m\u001b[0m\u001b[0;34m\u001b[0m\u001b[0;34m\u001b[0m\u001b[0m\n\u001b[1;32m    122\u001b[0m         \u001b[0;31m##### ADD v to M31Accel ###\u001b[0m\u001b[0;34m\u001b[0m\u001b[0;34m\u001b[0m\u001b[0;34m\u001b[0m\u001b[0m\n\u001b[0;32m--> 123\u001b[0;31m         \u001b[0mvnext\u001b[0m \u001b[0;34m=\u001b[0m \u001b[0mv\u001b[0m \u001b[0;34m+\u001b[0m \u001b[0mself\u001b[0m\u001b[0;34m.\u001b[0m\u001b[0mM31Accel\u001b[0m\u001b[0;34m(\u001b[0m\u001b[0mrhalf\u001b[0m\u001b[0;34m,\u001b[0m \u001b[0mv\u001b[0m\u001b[0;34m)\u001b[0m \u001b[0;34m*\u001b[0m \u001b[0mdt\u001b[0m\u001b[0;34m\u001b[0m\u001b[0;34m\u001b[0m\u001b[0m\n\u001b[0m\u001b[1;32m    124\u001b[0m \u001b[0;34m\u001b[0m\u001b[0m\n\u001b[1;32m    125\u001b[0m         \u001b[0;31m# compute the position at the next timestep\u001b[0m\u001b[0;34m\u001b[0m\u001b[0;34m\u001b[0m\u001b[0;34m\u001b[0m\u001b[0m\n",
      "\u001b[0;32m<ipython-input-4-5ff344884948>\u001b[0m in \u001b[0;36mM31Accel\u001b[0;34m(self, r, v)\u001b[0m\n\u001b[1;32m    107\u001b[0m              \u001b[0;34m+\u001b[0m \u001b[0mself\u001b[0m\u001b[0;34m.\u001b[0m\u001b[0mHenquistAccel\u001b[0m\u001b[0;34m(\u001b[0m\u001b[0mself\u001b[0m\u001b[0;34m.\u001b[0m\u001b[0mMbulge\u001b[0m\u001b[0;34m,\u001b[0m \u001b[0mself\u001b[0m\u001b[0;34m.\u001b[0m\u001b[0mrbulge\u001b[0m\u001b[0;34m,\u001b[0m \u001b[0mr\u001b[0m\u001b[0;34m)\u001b[0m\u001b[0;31m \u001b[0m\u001b[0;31m\\\u001b[0m\u001b[0;34m\u001b[0m\u001b[0;34m\u001b[0m\u001b[0m\n\u001b[1;32m    108\u001b[0m              \u001b[0;34m+\u001b[0m \u001b[0mself\u001b[0m\u001b[0;34m.\u001b[0m\u001b[0mMiyamotoNagaiAccel\u001b[0m\u001b[0;34m(\u001b[0m\u001b[0mself\u001b[0m\u001b[0;34m.\u001b[0m\u001b[0mMdisk\u001b[0m\u001b[0;34m,\u001b[0m \u001b[0mself\u001b[0m\u001b[0;34m.\u001b[0m\u001b[0mrdisk\u001b[0m\u001b[0;34m,\u001b[0m \u001b[0mr\u001b[0m\u001b[0;34m)\u001b[0m\u001b[0;31m \u001b[0m\u001b[0;31m\\\u001b[0m\u001b[0;34m\u001b[0m\u001b[0;34m\u001b[0m\u001b[0m\n\u001b[0;32m--> 109\u001b[0;31m              \u001b[0;34m+\u001b[0m \u001b[0mself\u001b[0m\u001b[0;34m.\u001b[0m\u001b[0mDynamicalFriction\u001b[0m\u001b[0;34m(\u001b[0m\u001b[0mself\u001b[0m\u001b[0;34m.\u001b[0m\u001b[0mM33halo\u001b[0m\u001b[0;34m,\u001b[0m \u001b[0mself\u001b[0m\u001b[0;34m.\u001b[0m\u001b[0mVc\u001b[0m\u001b[0;34m,\u001b[0m \u001b[0mr\u001b[0m\u001b[0;34m,\u001b[0m \u001b[0mv\u001b[0m\u001b[0;34m)\u001b[0m\u001b[0;34m\u001b[0m\u001b[0;34m\u001b[0m\u001b[0m\n\u001b[0m\u001b[1;32m    110\u001b[0m \u001b[0;34m\u001b[0m\u001b[0m\n\u001b[1;32m    111\u001b[0m     \u001b[0;32mdef\u001b[0m \u001b[0mLeapFrog\u001b[0m\u001b[0;34m(\u001b[0m\u001b[0mself\u001b[0m\u001b[0;34m,\u001b[0m \u001b[0mdt\u001b[0m\u001b[0;34m,\u001b[0m \u001b[0mr\u001b[0m\u001b[0;34m,\u001b[0m \u001b[0mv\u001b[0m\u001b[0;34m)\u001b[0m\u001b[0;34m:\u001b[0m\u001b[0;34m\u001b[0m\u001b[0;34m\u001b[0m\u001b[0m\n",
      "\u001b[0;32m<ipython-input-4-5ff344884948>\u001b[0m in \u001b[0;36mDynamicalFriction\u001b[0;34m(self, Msat, Vc, r, v)\u001b[0m\n\u001b[1;32m     90\u001b[0m             \u001b[0mbmax\u001b[0m \u001b[0;34m=\u001b[0m \u001b[0mrmag\u001b[0m \u001b[0;31m# current separation bt M33 and M31\u001b[0m\u001b[0;34m\u001b[0m\u001b[0;34m\u001b[0m\u001b[0m\n\u001b[1;32m     91\u001b[0m             \u001b[0mbmin\u001b[0m \u001b[0;34m=\u001b[0m \u001b[0mself\u001b[0m\u001b[0;34m.\u001b[0m\u001b[0mG\u001b[0m\u001b[0;34m*\u001b[0m\u001b[0mMsat\u001b[0m\u001b[0;34m/\u001b[0m\u001b[0mVc\u001b[0m\u001b[0;34m**\u001b[0m\u001b[0;36m2\u001b[0m     \u001b[0;31m# G Msat /Vc^2\u001b[0m\u001b[0;34m\u001b[0m\u001b[0;34m\u001b[0m\u001b[0m\n\u001b[0;32m---> 92\u001b[0;31m             \u001b[0mCoulomb\u001b[0m \u001b[0;34m=\u001b[0m \u001b[0mnp\u001b[0m\u001b[0;34m.\u001b[0m\u001b[0mlong\u001b[0m\u001b[0;34m(\u001b[0m\u001b[0mbmax\u001b[0m\u001b[0;34m/\u001b[0m\u001b[0mbmin\u001b[0m\u001b[0;34m)\u001b[0m\u001b[0;34m\u001b[0m\u001b[0;34m\u001b[0m\u001b[0m\n\u001b[0m\u001b[1;32m     93\u001b[0m \u001b[0;34m\u001b[0m\u001b[0m\n\u001b[1;32m     94\u001b[0m             \u001b[0;32mreturn\u001b[0m \u001b[0;34m-\u001b[0m\u001b[0;36m0.428\u001b[0m\u001b[0;34m*\u001b[0m\u001b[0mself\u001b[0m\u001b[0;34m.\u001b[0m\u001b[0mG\u001b[0m\u001b[0;34m*\u001b[0m\u001b[0mMsat\u001b[0m\u001b[0;34m*\u001b[0m\u001b[0mCoulomb\u001b[0m\u001b[0;34m*\u001b[0m\u001b[0mrmag\u001b[0m\u001b[0;34m**\u001b[0m\u001b[0;36m2\u001b[0m\u001b[0;34m*\u001b[0m\u001b[0mv\u001b[0m\u001b[0;34m/\u001b[0m\u001b[0mvmag\u001b[0m\u001b[0;34m\u001b[0m\u001b[0;34m\u001b[0m\u001b[0m\n",
      "\u001b[0;31mOverflowError\u001b[0m: cannot convert float infinity to integer"
     ]
    }
   ],
   "source": [
    "M33 = M33AnalyticOrbit(\"M33AnalyticOrbit.txt\")\n",
    "M33.OrbitIntegration(0, 0.1, 10.)"
   ]
  },
  {
   "cell_type": "code",
   "execution_count": null,
   "metadata": {
    "ExecuteTime": {
     "end_time": "2020-03-16T03:08:16.977732Z",
     "start_time": "2020-03-16T03:08:16.968275Z"
    }
   },
   "outputs": [],
   "source": [
    "orbit_type = np.dtype([('t', 'f8'), ('r', 'f8', 3), ('v', 'f8', 3)])\n",
    "\n",
    "# Read in Orbit of M33 relative to M31\n",
    "M33Orbit = np.loadtxt(\"M33AnalyticOrbit.txt\", dtype=orbit_type)\n",
    "\n",
    "# Read in Orbit of M33 relative to M31 Old, from Homework 7\n",
    "M33Orbit_Hmwk7 = np.loadtxt(\"M33AnalyticOrbit_Hmwk7.txt\", dtype=orbit_type)\n",
    "\n",
    "\n",
    "# Read in simulation Orbit from Homework 6\n",
    "M33SimOrbit = np.genfromtxt('Orbit_M33.txt', dtype = orbit_type)\n",
    "M31SimOrbit = np.genfromtxt('Orbit_M31.txt', dtype = orbit_type)"
   ]
  },
  {
   "cell_type": "code",
   "execution_count": null,
   "metadata": {
    "ExecuteTime": {
     "end_time": "2020-03-16T03:08:17.670110Z",
     "start_time": "2020-03-16T03:08:17.664177Z"
    }
   },
   "outputs": [],
   "source": [
    "def relative_mag(orbit1, orbit2): # calculate relative sep or vel\n",
    "    return np.sqrt(np.sum((orbit1['r'] - orbit2['r'])**2, axis=1)), \\\n",
    "           np.sqrt(np.sum((orbit1['v'] - orbit2['v'])**2, axis=1))\n",
    "def vector_mag(orbit):\n",
    "    return np.sqrt(np.sum(orbit['r']**2, axis=1)), \\\n",
    "           np.sqrt(np.sum(orbit['v']**2, axis=1))"
   ]
  },
  {
   "cell_type": "code",
   "execution_count": null,
   "metadata": {
    "ExecuteTime": {
     "end_time": "2020-03-16T03:08:18.051139Z",
     "start_time": "2020-03-16T03:08:18.047567Z"
    }
   },
   "outputs": [],
   "source": [
    "# Determine the magnitude of the position and velocities \n",
    "\n",
    "# of MW and M31\n",
    "M31_M33_R, M31_M33_V = vector_mag(M33Orbit)\n",
    "\n",
    "# of MW and M31 : Homework 7 \n",
    "M31_M33_R_Hmwk7, M31_M33_V_Hmwk7 = vector_mag(M33Orbit_Hmwk7)\n",
    "\n",
    "\n",
    "# of M33 and M31\n",
    "M31_M33_SimR, M31_M33_SimV = relative_mag(M31SimOrbit, M33SimOrbit)"
   ]
  },
  {
   "cell_type": "code",
   "execution_count": null,
   "metadata": {
    "ExecuteTime": {
     "end_time": "2020-03-16T03:10:13.673083Z",
     "start_time": "2020-03-16T03:10:13.585155Z"
    }
   },
   "outputs": [],
   "source": [
    "# Plot the orbital separations of the galaxies \n",
    "#################################\n",
    "\n",
    "fig, ax= plt.subplots(figsize=(10, 10))\n",
    "\n",
    "# Plot the analytical separation of M31 and M33\n",
    "ax.plot(M33Orbit['t'], M31_M33_R, 'b', lw=5, label='M31-M33 Analytic')\n",
    "\n",
    "# Plot the simulated separation of M31 and M33\n",
    "ax.plot(M33SimOrbit['t'], M31_M33_SimR, 'r', lw=5, label='M31-M33 Simulation')\n",
    "\n",
    "# Plot the simulated separation of M31 and M33 from Homework 7\n",
    "ax.plot(M33Orbit_Hmwk7['t'], M31_M33_R_Hmwk7, 'g', lw=5, label='M31-M33 Analytic Hmwk7')\n",
    "\n",
    "\n",
    "# Add axis labels\n",
    "ax.set_xlabel('Time (Gyr)', fontsize=22)\n",
    "ax.set_ylabel('Separation (kpc)', fontsize=22)\n",
    "ax.set_title(\"Separations vs. Time\", fontsize=22)\n",
    "\n",
    "#adjust tick label font size\n",
    "ax.xaxis.set_tick_params(labelsize=22)\n",
    "ax.yaxis.set_tick_params(labelsize=22)\n",
    "\n",
    "# add a legend with some customizations.\n",
    "legend = ax.legend(loc='upper left',fontsize=20)\n",
    "\n",
    "plt.ylim(0, 500)\n",
    "\n",
    "# tight layout\n",
    "fig.tight_layout()\n",
    "\n",
    "# Save to a file\n",
    "fig.savefig('orbit_M33_R.pdf')"
   ]
  },
  {
   "cell_type": "code",
   "execution_count": null,
   "metadata": {
    "ExecuteTime": {
     "end_time": "2020-03-16T03:13:14.666621Z",
     "start_time": "2020-03-16T03:13:14.583039Z"
    }
   },
   "outputs": [],
   "source": [
    "# Plot the orbital velocities of the galaxies \n",
    "#################################\n",
    "\n",
    "fig, ax= plt.subplots(figsize=(12, 10))\n",
    "\n",
    "# Plot the analytical velocities of M31 and M33\n",
    "ax.plot(M33Orbit['t'], M31_M33_V, 'b', lw=5, label='M31-M33 Analytic')\n",
    "\n",
    "# Plot the simulated velocities of M31 and M33\n",
    "ax.plot(M33SimOrbit['t'], M31_M33_SimV, 'r', lw=5, label='M31-M33 Simulation')\n",
    "\n",
    "# Plot the simulated separation of M31 and M33 from Homework 7\n",
    "ax.plot(M33Orbit_Hmwk7['t'], M31_M33_V_Hmwk7, 'g', lw=5, label='M31-M33 Analytic Hmwk7')\n",
    "\n",
    "\n",
    "# Add axis labels\n",
    "ax.set_xlabel('Time (Gyr)', fontsize=22)\n",
    "ax.set_ylabel('Velocity (km/s)', fontsize=22)\n",
    "ax.set_title(\"Velocities vs. Time\", fontsize=22)\n",
    "\n",
    "#adjust tick label font size\n",
    "ax.xaxis.set_tick_params(labelsize=22)\n",
    "ax.yaxis.set_tick_params(labelsize=22)\n",
    "\n",
    "# add a legend with some customizations.\n",
    "legend = ax.legend(loc='upper left',fontsize=20)\n",
    "\n",
    "# tight layout\n",
    "fig.tight_layout()\n",
    "\n",
    "# Save to a file\n",
    "fig.savefig('orbit_M33_V.pdf')"
   ]
  },
  {
   "cell_type": "markdown",
   "metadata": {},
   "source": []
  },
  {
   "cell_type": "code",
   "execution_count": null,
   "metadata": {},
   "outputs": [],
   "source": []
  }
 ],
 "metadata": {
  "kernelspec": {
   "display_name": "Python 3",
   "language": "python",
   "name": "python3"
  },
  "language_info": {
   "codemirror_mode": {
    "name": "ipython",
    "version": 3
   },
   "file_extension": ".py",
   "mimetype": "text/x-python",
   "name": "python",
   "nbconvert_exporter": "python",
   "pygments_lexer": "ipython3",
   "version": "3.7.1"
  },
  "varInspector": {
   "cols": {
    "lenName": 16,
    "lenType": 16,
    "lenVar": 40
   },
   "kernels_config": {
    "python": {
     "delete_cmd_postfix": "",
     "delete_cmd_prefix": "del ",
     "library": "var_list.py",
     "varRefreshCmd": "print(var_dic_list())"
    },
    "r": {
     "delete_cmd_postfix": ") ",
     "delete_cmd_prefix": "rm(",
     "library": "var_list.r",
     "varRefreshCmd": "cat(var_dic_list()) "
    }
   },
   "types_to_exclude": [
    "module",
    "function",
    "builtin_function_or_method",
    "instance",
    "_Feature"
   ],
   "window_display": false
  }
 },
 "nbformat": 4,
 "nbformat_minor": 4
}
