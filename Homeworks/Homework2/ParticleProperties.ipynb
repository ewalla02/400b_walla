{
 "cells": [
  {
   "cell_type": "code",
   "execution_count": 3,
   "metadata": {},
   "outputs": [],
   "source": [
    "# ParticleProperties\n",
    "# Emily Walla\n",
    "# January 2020\n",
    "# contains function ParticleInfo\n",
    "# returns Magnitude of distance (kpc)\n",
    "#         Magnitude of velocity (km/s)\n",
    "#         Mass (Msun)\n",
    "# Solution to HW 2 is found at the end of this notebook"
   ]
  },
  {
   "cell_type": "code",
   "execution_count": 4,
   "metadata": {},
   "outputs": [],
   "source": [
    "# make necessary imports\n",
    "import numpy as np\n",
    "import astropy.units as u\n",
    "from Readfile import Read"
   ]
  },
  {
   "cell_type": "code",
   "execution_count": 5,
   "metadata": {},
   "outputs": [],
   "source": [
    "# function takes inputs and then returns some properties\n",
    "# distance and velocity are rounded to 3 decimal places\n",
    "\n",
    "def ParticleProperties(filename, particle_type, particle_number):\n",
    "    # inputs:\n",
    "    #       filename = the name of the file you wish to read from\n",
    "    #       particle_type = the type of particle you want to know about\n",
    "    #               --> options: 1 (Dark Matter), 2 (Disk Stars), 3 (Bulge Stars)\n",
    "    #       number = the number of particle you want\n",
    "    \n",
    "    # returns:\n",
    "    #      Magnitude of the particle's distance (kpc)\n",
    "    #      Magnitude of particle's velocity (km/s)\n",
    "    #      Mass of particle (Msun)\n",
    "    \n",
    "    # read in the datatable\n",
    "    time, number, data = Read(filename)\n",
    "   \n",
    "    # select the data of the particle you want to know about\n",
    "    select_data = data[np.where(data[\"type\"] == particle_type)][particle_number]\n",
    "    # acquire position data\n",
    "    x = select_data[\"x\"]*u.kpc\n",
    "    y = select_data[\"y\"]*u.kpc\n",
    "    z = select_data[\"z\"]*u.kpc\n",
    "    \n",
    "    # calculate magnitude of distance\n",
    "    distance = np.around( np.sqrt( (x*x)+(y*y)+(z*z) ), 3 )\n",
    "    \n",
    "    # acquire velocity data\n",
    "    vx = select_data[\"vx\"]*u.km/u.s\n",
    "    vy = select_data[\"vy\"]*u.km/u.s\n",
    "    vz = select_data[\"vz\"]*u.km/u.s\n",
    "    \n",
    "    # calculate magnitude of velocity\n",
    "    velocity = np.around( np.sqrt( (vx**2)+(vy**2)+(vz**2) ), 3 )\n",
    "    \n",
    "    # acquire mass\n",
    "    mass = select_data[\"m\"]*u.Msun*1e10\n",
    "    \n",
    "    return distance, velocity, mass\n",
    "    "
   ]
  },
  {
   "cell_type": "code",
   "execution_count": 6,
   "metadata": {},
   "outputs": [
    {
     "name": "stdout",
     "output_type": "stream",
     "text": [
      "('distance =', 4.245, Unit(\"kpc\"))\n",
      "('velocity =', 312.135, Unit(\"km / s\"))\n",
      "('mass = ', 1000000.0, Unit(\"solMass\"))\n"
     ]
    }
   ],
   "source": [
    "# Questions 5:\n",
    "\n",
    "# Prove that the code works!\n",
    "# returns the 3D distance, 3D velocity, and mass\n",
    "# DS is shorthand for \"Disk Star,\" \"100\" marks the number\n",
    "# \"d\" stands for distance, \"v\" stands for velocity, \n",
    "# and \"m\" stands for mass\n",
    "\n",
    "DS100d, DS100v, DS100m = ParticleProperties(\"../../MW_000.txt\",2,99)\n",
    "\n",
    "\n",
    "print(\"distance =\", DS100d.value, DS100d.unit )\n",
    "print(\"velocity =\", DS100v.value, DS100v.unit)\n",
    "print(\"mass = \", DS100m.value, DS100m.unit)"
   ]
  },
  {
   "cell_type": "code",
   "execution_count": 13,
   "metadata": {},
   "outputs": [
    {
     "name": "stdout",
     "output_type": "stream",
     "text": [
      "13845.338 lyr\n"
     ]
    }
   ],
   "source": [
    "# Convert 3D distance of the particle from kpc to lightyears\n",
    "print( np.around( DS100d.to(u.lyr), 3 ) )"
   ]
  },
  {
   "cell_type": "code",
   "execution_count": null,
   "metadata": {},
   "outputs": [],
   "source": []
  }
 ],
 "metadata": {
  "kernelspec": {
   "display_name": "Python 2",
   "language": "python",
   "name": "python2"
  },
  "language_info": {
   "codemirror_mode": {
    "name": "ipython",
    "version": 2
   },
   "file_extension": ".py",
   "mimetype": "text/x-python",
   "name": "python",
   "nbconvert_exporter": "python",
   "pygments_lexer": "ipython2",
   "version": "2.7.12"
  }
 },
 "nbformat": 4,
 "nbformat_minor": 2
}
