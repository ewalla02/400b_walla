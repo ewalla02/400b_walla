{
 "cells": [
  {
   "cell_type": "markdown",
   "metadata": {},
   "source": [
    "# Readfile\n",
    "\n",
    "Emily Walla\n",
    "\n",
    "January 2020\n",
    "\n",
    "Astr400B\n",
    "\n",
    "Program has function that reads in a file and returns the time, number and datatable contained in the file."
   ]
  },
  {
   "cell_type": "code",
   "execution_count": 1,
   "metadata": {},
   "outputs": [],
   "source": [
    "# make necessary imports\n",
    "import numpy as np\n",
    "import astropy.units as u"
   ]
  },
  {
   "cell_type": "code",
   "execution_count": 2,
   "metadata": {},
   "outputs": [],
   "source": [
    "# define the Read function that takes the file name as input:\n",
    "\n",
    "def Read(filename):\n",
    "    # input: \"filename\"\n",
    "    # return: time (Myr), total number of particles, data array\n",
    "    \n",
    "    # open  the file\n",
    "    file = open(filename,'r')\n",
    "    \n",
    "    # read the first line and store the time in units of Myr\n",
    "    line1 = file.readline()\n",
    "    label,value = line1.split()\n",
    "    time = float(value)*u.Myr\n",
    "    \n",
    "    # read the second line and store the to total number of particles\n",
    "    line2 = file.readline()\n",
    "    label2, number = line2.split()\n",
    "    \n",
    "    \n",
    "    #close the file\n",
    "    file.close()\n",
    "    \n",
    "    data = np.genfromtxt(filename, dtype=None, names=True, skip_header=3)\n",
    "    \n",
    "    #return the desired outputs\n",
    "    return value, number, data"
   ]
  }
 ],
 "metadata": {
  "kernelspec": {
   "display_name": "Python 2",
   "language": "python",
   "name": "python2"
  },
  "language_info": {
   "codemirror_mode": {
    "name": "ipython",
    "version": 3
   },
   "file_extension": ".py",
   "mimetype": "text/x-python",
   "name": "python",
   "nbconvert_exporter": "python",
   "pygments_lexer": "ipython3",
   "version": "3.7.1"
  }
 },
 "nbformat": 4,
 "nbformat_minor": 2
}
