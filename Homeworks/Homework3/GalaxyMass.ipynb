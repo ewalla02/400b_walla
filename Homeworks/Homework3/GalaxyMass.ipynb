{
 "cells": [
  {
   "cell_type": "code",
   "execution_count": 1,
   "metadata": {},
   "outputs": [],
   "source": [
    "# GalaxyMass\n",
    "# ASTR 400B HW 3\n",
    "# Emily Walla\n",
    "# February 2020"
   ]
  },
  {
   "cell_type": "code",
   "execution_count": 2,
   "metadata": {},
   "outputs": [],
   "source": [
    "# make necessary imports\n",
    "import numpy as np\n",
    "import astropy.units as u\n",
    "from Readfile import Read\n",
    "import pandas as pd"
   ]
  },
  {
   "cell_type": "code",
   "execution_count": 3,
   "metadata": {},
   "outputs": [],
   "source": [
    "# GalaxyMass program contains function ComponentMass\n",
    "# ComponentMass returns total mass of any desired galactic component\n"
   ]
  },
  {
   "cell_type": "code",
   "execution_count": 49,
   "metadata": {},
   "outputs": [],
   "source": [
    "def ComponentMass(filename, Ptype):\n",
    "    # inputs:\n",
    "    #      filename: the name of the txt file you wish to read\n",
    "    #      Ptype: the type of particle you wish to find the mass of.\n",
    "    #             options for Ptype = 1, 2, or 3.\n",
    "    #             1 = Halo matter, 2 = Disk material, 3 = Bulge stuff\n",
    "    \n",
    "    # returns:\n",
    "    #      The total mass of your desired galactic component, in 1e12Msun\n",
    "    \n",
    "    # read in the file\n",
    "    time, number, data = Read(filename)\n",
    "    \n",
    "    # select only that data of your selected material type\n",
    "    select_data = data[np.where(data[\"type\"]==Ptype)]\n",
    "    \n",
    "    # extract mass data from your selected data\n",
    "    mass_array = select_data[\"m\"]\n",
    "    \n",
    "    # find total mass of the selected material\n",
    "    total_mass = np.around(np.sum(mass_array)*1e12*u.Msun, 3)\n",
    "    \n",
    "    return np.around(total_mass, 3)\n",
    "    \n",
    "    \n"
   ]
  },
  {
   "cell_type": "code",
   "execution_count": 50,
   "metadata": {},
   "outputs": [],
   "source": [
    "# function that returns the total mass of the galaxy and the f-bar\n",
    "\n",
    "def Total_fbar(halo,disk,bulge):\n",
    "    # All units in solar massses\n",
    "    \n",
    "    # inputs:\n",
    "    #     halo: the total mass of the halo material of the galaxy\n",
    "    #     disk: the total mass of the disk material of the galaxy\n",
    "    #     bulge: the total mass of the bulge material of the galaxy\n",
    "    \n",
    "    # returns:\n",
    "    #     total_g_mass : the total mass of the galaxy\n",
    "    #     fbar: the baryon fraction for the galaxy\n",
    "    #          fbar total_star_mass/total_g_mass\n",
    "    \n",
    "    total_star_mass = disk.value+bulge.value\n",
    "    \n",
    "    total_g_mass = np.around( (total_star_mass+halo.value), 3 )\n",
    "    \n",
    "    fbar = np.around( (total_star_mass/total_g_mass), 3 )\n",
    "    \n",
    "    return np.around(total_g_mass*u.Msun,3), np.around(fbar,3)"
   ]
  },
  {
   "cell_type": "code",
   "execution_count": 51,
   "metadata": {},
   "outputs": [],
   "source": [
    "# define the files I am using\n",
    "\n",
    "# Milky Way\n",
    "MW = \"../../MW_000.txt\"\n",
    "\n",
    "# M31\n",
    "M31 = \"../../../../astr400b/M31_000.txt\"\n",
    "\n",
    "# M33\n",
    "M33 = \"../../../../astr400b/M33_000.txt\""
   ]
  },
  {
   "cell_type": "code",
   "execution_count": 52,
   "metadata": {},
   "outputs": [],
   "source": [
    "# create table to store data in\n",
    "# Columns of table are:\n",
    "# Galaxy Name, Halo mass (units), Disk Mass (units), Bulge Mass (units), Total (units), f_bar\n",
    "table_array = np.empty((4,6),dtype=\"object\")"
   ]
  },
  {
   "cell_type": "code",
   "execution_count": 53,
   "metadata": {},
   "outputs": [],
   "source": [
    "# calculate the Milky Way Disk Mass, in Solar Masses\n",
    "MW_Disk = ComponentMass(MW,2)\n",
    "# Calculate the Milky Way Halo Mass, in solar masses\n",
    "MW_Halo = ComponentMass(MW,1)\n",
    "# Calculate the Milky Way Bulge Mass, in solar masses\n",
    "MW_Bulge = ComponentMass(MW,3)\n",
    "\n",
    "# Halo Mass, M31\n",
    "M31_Halo = ComponentMass(M31,1)\n",
    "# Disk Mass, M31\n",
    "M31_Disk = ComponentMass(M31,2)\n",
    "# Bulge Mass, M31\n",
    "M31_Bulge = ComponentMass(M31,3)\n",
    "\n",
    "# Halo Mass, M33\n",
    "M33_Halo = ComponentMass(M33,1)\n",
    "# Disk Mass, M33\n",
    "M33_Disk = ComponentMass(M33,2)\n",
    "# Bulge Mass, M33\n",
    "M33_Bulge = ComponentMass(M33,3)\n"
   ]
  },
  {
   "cell_type": "code",
   "execution_count": 54,
   "metadata": {},
   "outputs": [],
   "source": [
    "# calculate the total mass and baryon fraction of each galaxy\n",
    "MW_Total, MW_fbar = Total_fbar(MW_Halo,MW_Disk,MW_Bulge)\n",
    "M31_Total, M31_fbar = Total_fbar(M31_Halo,M31_Disk,M31_Bulge)\n",
    "M33_Total, M33_fbar = Total_fbar(M33_Halo,M33_Disk,M33_Bulge)\n"
   ]
  },
  {
   "cell_type": "code",
   "execution_count": 55,
   "metadata": {},
   "outputs": [],
   "source": [
    "# Calculate the Local Group's total Mass\n",
    "Local_Total = M33_Total + M31_Total + MW_Total\n",
    "\n",
    "# Calculate the Local Group's Baryon Fraction\n",
    "Local_fbar = ( M31_Disk+M31_Bulge+ M33_Disk+M33_Bulge+ MW_Disk+MW_Bulge ).value/Local_Total.value\n",
    "\n",
    "# In order to populate the would-be empty cells in the table, find the total halo, disk, and bulge masses\n",
    "# Calculate Halo Total\n",
    "Local_Halo = M31_Halo + M33_Halo + MW_Halo\n",
    "\n",
    "# Calculate Disk Total\n",
    "Local_Disk = M31_Disk + M33_Disk + MW_Disk\n",
    "\n",
    "# Calculate Bulge Total\n",
    "Local_Bulge = M31_Bulge + M33_Bulge + MW_Bulge\n"
   ]
  },
  {
   "cell_type": "code",
   "execution_count": 60,
   "metadata": {},
   "outputs": [],
   "source": [
    "table_array[0,:]=[\"Milky Way\",MW_Halo.value, MW_Disk.value, MW_Bulge.value, MW_Total.value,MW_fbar]\n",
    "table_array[1,:]=[\"M31\", M31_Halo.value, M31_Disk.value, M31_Bulge.value,M31_Total.value,M31_fbar]\n",
    "table_array[2,:]=[\"M33\", M33_Halo.value, M33_Disk.value, M33_Bulge.value,M33_Total.value,M33_fbar]\n",
    "table_array[3,:]=[\"Local Group\", Local_Halo.value, Local_Disk.value, Local_Bulge.value, Local_Total.value, Local_fbar]"
   ]
  },
  {
   "cell_type": "code",
   "execution_count": 61,
   "metadata": {},
   "outputs": [],
   "source": [
    "# turn the table array into a pandas dataframe\n",
    "# pandas is pretty in the jupyter environment\n",
    "# and pandas can easily translate to LaTeX!\n",
    "table = pd.DataFrame([table_array[0,:],table_array[1,:],table_array[2,:],table_array[3,:]],columns=[\"Galaxy Name\", \"Halo mass (M☉)\", \"Disk Mass (M☉)\", \"Bulge Mass (M☉)\", \"Total (M☉)\", \"f_bar\"])"
   ]
  },
  {
   "cell_type": "code",
   "execution_count": 62,
   "metadata": {
    "scrolled": true
   },
   "outputs": [
    {
     "data": {
      "text/html": [
       "<div>\n",
       "<table border=\"1\" class=\"dataframe\">\n",
       "  <thead>\n",
       "    <tr style=\"text-align: right;\">\n",
       "      <th></th>\n",
       "      <th>Galaxy Name</th>\n",
       "      <th>Halo mass (M☉)</th>\n",
       "      <th>Disk Mass (M☉)</th>\n",
       "      <th>Bulge Mass (M☉)</th>\n",
       "      <th>Total (M☉)</th>\n",
       "      <th>f_bar</th>\n",
       "    </tr>\n",
       "  </thead>\n",
       "  <tbody>\n",
       "    <tr>\n",
       "      <th>0</th>\n",
       "      <td>Milky Way</td>\n",
       "      <td>1.974925e+14</td>\n",
       "      <td>7.500000e+12</td>\n",
       "      <td>1.000500e+12</td>\n",
       "      <td>2.059930e+14</td>\n",
       "      <td>0.04100</td>\n",
       "    </tr>\n",
       "    <tr>\n",
       "      <th>1</th>\n",
       "      <td>M31</td>\n",
       "      <td>1.920880e+14</td>\n",
       "      <td>1.200000e+13</td>\n",
       "      <td>1.904997e+12</td>\n",
       "      <td>2.059930e+14</td>\n",
       "      <td>0.06800</td>\n",
       "    </tr>\n",
       "    <tr>\n",
       "      <th>2</th>\n",
       "      <td>M33</td>\n",
       "      <td>1.866130e+13</td>\n",
       "      <td>9.300000e+11</td>\n",
       "      <td>0.000000e+00</td>\n",
       "      <td>1.959130e+13</td>\n",
       "      <td>0.04700</td>\n",
       "    </tr>\n",
       "    <tr>\n",
       "      <th>3</th>\n",
       "      <td>Local Group</td>\n",
       "      <td>4.082418e+14</td>\n",
       "      <td>2.043000e+13</td>\n",
       "      <td>2.905497e+12</td>\n",
       "      <td>4.315773e+14</td>\n",
       "      <td>0.05407</td>\n",
       "    </tr>\n",
       "  </tbody>\n",
       "</table>\n",
       "</div>"
      ],
      "text/plain": [
       "   Galaxy Name  Halo mass (M☉)  Disk Mass (M☉)  Bulge Mass (M☉)    Total (M☉)  \\\n",
       "0    Milky Way    1.974925e+14    7.500000e+12     1.000500e+12  2.059930e+14   \n",
       "1          M31    1.920880e+14    1.200000e+13     1.904997e+12  2.059930e+14   \n",
       "2          M33    1.866130e+13    9.300000e+11     0.000000e+00  1.959130e+13   \n",
       "3  Local Group    4.082418e+14    2.043000e+13     2.905497e+12  4.315773e+14   \n",
       "\n",
       "     f_bar  \n",
       "0  0.04100  \n",
       "1  0.06800  \n",
       "2  0.04700  \n",
       "3  0.05407  "
      ]
     },
     "execution_count": 62,
     "metadata": {},
     "output_type": "execute_result"
    }
   ],
   "source": [
    "# I want to see my beautiful Pandas datatable\n",
    "table"
   ]
  },
  {
   "cell_type": "code",
   "execution_count": 59,
   "metadata": {},
   "outputs": [
    {
     "name": "stdout",
     "output_type": "stream",
     "text": [
      "\\begin{tabular}{llrrrrr}\n",
      "\\toprule\n",
      "{} &  Galaxy Name &  Halo mass (M☉) &  Disk Mass (M☉) &  Bulge Mass (M☉) &    Total (M☉) &    f\\_bar \\\\\n",
      "\\midrule\n",
      "0 &    Milky Way &    1.974925e+14 &    7.500000e+12 &     1.000500e+12 &  2.059930e+14 &  0.04100 \\\\\n",
      "1 &          M31 &    1.920880e+14 &    1.200000e+13 &     1.904997e+12 &  2.059930e+14 &  0.06800 \\\\\n",
      "2 &          M33 &    1.866130e+13 &    9.300000e+11 &     0.000000e+00 &  1.959130e+13 &  0.04700 \\\\\n",
      "3 &  Local Group &    4.082418e+14 &    2.043000e+13 &     2.905497e+12 &  4.315773e+14 &  0.05407 \\\\\n",
      "\\bottomrule\n",
      "\\end{tabular}\n",
      "\n"
     ]
    }
   ],
   "source": [
    "# convert the pandas table to LaTeX.\n",
    "# copy the output to a TeX editor (like Overleaf) and voila! A LaTeX table is born!\n",
    "print(table.to_latex(index=True))"
   ]
  },
  {
   "cell_type": "code",
   "execution_count": null,
   "metadata": {},
   "outputs": [],
   "source": []
  }
 ],
 "metadata": {
  "kernelspec": {
   "display_name": "Python 2",
   "language": "python",
   "name": "python2"
  },
  "language_info": {
   "codemirror_mode": {
    "name": "ipython",
    "version": 2
   },
   "file_extension": ".py",
   "mimetype": "text/x-python",
   "name": "python",
   "nbconvert_exporter": "python",
   "pygments_lexer": "ipython2",
   "version": "2.7.12"
  }
 },
 "nbformat": 4,
 "nbformat_minor": 2
}
