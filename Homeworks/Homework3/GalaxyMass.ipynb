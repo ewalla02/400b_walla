{
 "cells": [
  {
   "cell_type": "code",
   "execution_count": 1,
   "metadata": {},
   "outputs": [],
   "source": [
    "# GalaxyMass\n",
    "# ASTR 400B HW 3\n",
    "# Emily Walla\n",
    "# February 2020"
   ]
  },
  {
   "cell_type": "code",
   "execution_count": 7,
   "metadata": {},
   "outputs": [],
   "source": [
    "# make necessary imports\n",
    "import numpy as np\n",
    "import astropy.units as u\n",
    "from Readfile import Read"
   ]
  },
  {
   "cell_type": "code",
   "execution_count": 8,
   "metadata": {},
   "outputs": [],
   "source": [
    "# GalaxyMass program contains function ComponentMass\n",
    "# ComponentMass returns total mass of any desired galactic component\n"
   ]
  },
  {
   "cell_type": "code",
   "execution_count": 10,
   "metadata": {},
   "outputs": [],
   "source": [
    "def ComponentMass(filename, Ptype):\n",
    "    # inputs:\n",
    "    #      filename: the name of the txt file you wish to read\n",
    "    #      Ptype: the type of particle you wish to find the mass of.\n",
    "    #             options for Ptype = 1, 2, or 3.\n",
    "    #             1 = Halo matter, 2 = Disk material, 3 = Bulge stuff\n",
    "    \n",
    "    # returns:\n",
    "    #      The total mass of your desired galactic component, in 1e12Msun\n",
    "    \n",
    "    # read in the file\n",
    "    time, number, data = Read(filename)\n",
    "    \n",
    "    # select only that data of your selected material type\n",
    "    select_data = data[np.where(data[\"type\"]==Ptype)]\n",
    "    \n",
    "    # extract mass data from your selected data\n",
    "    mass_array = select_data[\"m\"]*1e12*u.Msun\n",
    "    \n",
    "    # find total mass of the selected material\n",
    "    total_mass = np.around(np.sum(mass_array.value), 3)\n",
    "    \n",
    "    return total_mass\n",
    "    \n",
    "    \n"
   ]
  },
  {
   "cell_type": "code",
   "execution_count": 22,
   "metadata": {},
   "outputs": [
    {
     "name": "stdout",
     "output_type": "stream",
     "text": [
      "7.5e+12\n"
     ]
    }
   ],
   "source": [
    "MW_DiskMass = ComponentMass(\"../../MW_000.txt\",2)\n",
    "print(M31_DiskMass)"
   ]
  },
  {
   "cell_type": "code",
   "execution_count": null,
   "metadata": {},
   "outputs": [],
   "source": []
  }
 ],
 "metadata": {
  "kernelspec": {
   "display_name": "Python 2",
   "language": "python",
   "name": "python2"
  },
  "language_info": {
   "codemirror_mode": {
    "name": "ipython",
    "version": 2
   },
   "file_extension": ".py",
   "mimetype": "text/x-python",
   "name": "python",
   "nbconvert_exporter": "python",
   "pygments_lexer": "ipython2",
   "version": "2.7.12"
  }
 },
 "nbformat": 4,
 "nbformat_minor": 2
}
