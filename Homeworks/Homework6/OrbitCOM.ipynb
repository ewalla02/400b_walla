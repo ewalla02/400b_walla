{
 "cells": [
  {
   "cell_type": "code",
   "execution_count": 1,
   "metadata": {},
   "outputs": [],
   "source": [
    "# Homework 6 Template\n",
    "# G. Besla & R. Li"
   ]
  },
  {
   "cell_type": "code",
   "execution_count": 2,
   "metadata": {},
   "outputs": [],
   "source": [
    "# Homework 7\n",
    "# Emily Walla"
   ]
  },
  {
   "cell_type": "code",
   "execution_count": 3,
   "metadata": {},
   "outputs": [],
   "source": [
    "# import modules\n",
    "import numpy as np\n",
    "import astropy.units as u\n",
    "from astropy.constants import G\n",
    "\n",
    "# import plotting modules\n",
    "import matplotlib.pyplot as plt\n",
    "import matplotlib\n",
    "%matplotlib inline\n",
    "\n",
    "# my modules\n",
    "from Readfile import Read\n",
    "# Step 1: modify CenterOfMass so that COM_P now takes a parameter specifying \n",
    "# by how much to decrease RMAX instead of a factor of 2\n",
    "from CenterOfMass import CenterOfMass\n",
    "\n"
   ]
  },
  {
   "cell_type": "code",
   "execution_count": 4,
   "metadata": {},
   "outputs": [],
   "source": [
    "def OrbitCOM(galaxy, start, end, n):\n",
    "    \n",
    "    \"\"\"function that loops over all the desired snapshots to compute the COM pos and vel as a function of time.\n",
    "    inputs:\n",
    "        galaxy: the name of the galaxy, input as string, eg: \"MW\"\n",
    "        start: the number of the first snapshot to be read\n",
    "        end: the number of the last snapshot to be read\n",
    "        n: an integer indicating the intervals over which COM is returned\n",
    "          \n",
    "    returns: a text file containing the time, x, y, z, vx, vy, vz of that time\n",
    "    \"\"\"\n",
    "    \n",
    "    # compose the filename for output\n",
    "    fileout = \"Orbit_%s\" %galaxy + \".txt\"\n",
    "    \n",
    "    #  set tolerance and VolDec for calculating COM_P in CenterOfMass\n",
    "    # for M33 that is stripped more, use different values for VolDec\n",
    "    if galaxy == \"M33\":\n",
    "        delta = 0.1\n",
    "        VolDec = 4\n",
    "    else:\n",
    "        delta = 0.1\n",
    "        VolDec = 10\n",
    "        \n",
    "    # generate the snapshot id sequence \n",
    "    snap_ids = np.arange(start,end,n)\n",
    "    #print(snap_ids[10:15])\n",
    "    # it is always a good idea to also check if the input is eligible (not required)\n",
    "    \n",
    "    # initialize the array for orbital info: t, x, y, z, vx, vy, vz of COM\n",
    "    orbit = np.zeros([len(snap_ids),7])\n",
    "    \n",
    "    # a for loop \n",
    "    for i, snap_id in enumerate(snap_ids): # loop over files\n",
    "        \n",
    "        # compose the data filename (be careful about the folder)\n",
    "        if snap_ids[i] < 9.9:\n",
    "            filename = \"/home/astr400b/VLowRes/%s\" %(galaxy) + \"_00\" + str(snap_ids[i]) + \".txt\"\n",
    "        elif snap_ids[i] < 99.9:\n",
    "            filename = \"/home/astr400b/VLowRes/%s\" %(galaxy) + \"_0\" + str(snap_ids[i]) + \".txt\"\n",
    "        elif snap_ids[i] > 99.9:\n",
    "            filename = \"/home/astr400b/VLowRes/%s\" %(galaxy) + \"_\" + str(snap_ids[i]) + \".txt\"\n",
    "        # Initialize an instance of CenterOfMass class, using disk particles\n",
    "        COM = CenterOfMass(filename,2)\n",
    "        # Store the COM pos and vel. Remember that now COM_P required VolDec\n",
    "        GalCOMP = COM.COM_P(delta, VolDec)\n",
    "        GalCOMV = COM.COM_V(GalCOMP[0],GalCOMP[1],GalCOMP[2])\n",
    "    \n",
    "        # store the time, pos, vel in ith element of the orbit array,  without units (.value)\n",
    "        orbit[i] = COM.time, GalCOMP[0], GalCOMP[1], GalCOMP[2], GalCOMV[0], GalCOMV[1], GalCOMV[2]\n",
    "        # note that you can store \n",
    "        # a[i] = var1, *tuple(array1)\n",
    "\n",
    "        \n",
    "        # print snap_id to see the progress\n",
    "        # only print every 50 to ensure that it's working\n",
    "        if snap_ids[i] % 50 == 0:\n",
    "            print(snap_id)\n",
    "        \n",
    "    # write the data to a file\n",
    "    # we do this because we don't want to have to repeat this process \n",
    "    # this code should only have to be called once per galaxy.\n",
    "    np.savetxt(fileout, orbit, header=\"t x y z vx vy vz\", comments=\"#\", fmt=[\"%.2f\",\"%.2f\",\"%.2f\",\"%.2f\",\"%.2f\",\"%.2f\",\"%.2f\"])"
   ]
  },
  {
   "cell_type": "code",
   "execution_count": 6,
   "metadata": {},
   "outputs": [
    {
     "name": "stdout",
     "output_type": "stream",
     "text": [
      "0\n",
      "50\n",
      "100\n",
      "150\n",
      "200\n",
      "250\n",
      "300\n",
      "350\n",
      "400\n",
      "450\n",
      "500\n",
      "550\n",
      "600\n",
      "650\n",
      "700\n",
      "750\n"
     ]
    }
   ],
   "source": [
    "# Recover the orbits and generate the COM files for each galaxy\n",
    "# read in 800 snapshots in intervals of n=5\n",
    "\n",
    "#MW = OrbitCOM(\"MW\",0,800,5)\n",
    "#M31 = OrbitCOM(\"M31\",0,800,5)\n",
    "M33 = OrbitCOM(\"M33\",0,800,5)"
   ]
  },
  {
   "cell_type": "code",
   "execution_count": 7,
   "metadata": {},
   "outputs": [],
   "source": [
    "# Read in the data files for the orbits of each galaxy that you just created\n",
    "# headers:  t, x, y, z, vx, vy, vz\n",
    "# using np.genfromtxt\n",
    "#MWt, MWx, MWy, MWz, MWvx, MWvy, MWvz = np.genfromtxt(\"Orbit_MW.txt\",delimiter=\" \", unpack = True)\n",
    "#M31t, M31x, M31y, M31z, M31vx, M31vy, M31vz = np.genfromtxt(\"Orbit_M31.txt\",delimiter=\" \", unpack = True)\n",
    "M33t, M33x, M33y, M33z, M33vx, M33vy, M33vz = np.genfromtxt(\"Orbit_M33.txt\",delimiter=\" \", unpack = True)"
   ]
  },
  {
   "cell_type": "code",
   "execution_count": 8,
   "metadata": {},
   "outputs": [],
   "source": [
    "# create arrays of position vectors.\n",
    "#MW_pos = np.array([MWx,MWy,MWz])\n",
    "#M31_pos = np.array([M31x,M31y,M31z])\n",
    "M33_pos = np.array([M33x,M33y,M33z])\n",
    "\n",
    "# check that it actually prints out x, y, z coords\n",
    "#print(MW_pos[:,3])"
   ]
  },
  {
   "cell_type": "code",
   "execution_count": 9,
   "metadata": {},
   "outputs": [],
   "source": [
    "# create arrays of velocity vectors\n",
    "#MW_vel = np.array([MWvx,MWvy,MWvz])\n",
    "#M31_vel = np.array([M31vx,MWvy,MWvz])\n",
    "M33_vel = np.array([M33vx,M33vy,M33vz])"
   ]
  },
  {
   "cell_type": "code",
   "execution_count": 10,
   "metadata": {},
   "outputs": [],
   "source": [
    "# function to compute the magnitude of the difference between two vectors \n",
    "# You can use this function to return both the relative position and relative velocity for two \n",
    "# galaxies over the entire orbit  \n",
    "\n",
    "def Difference(a,b):\n",
    "    # inputs\n",
    "    #     a: a 3D vector\"\n",
    "    #     b: another 3D vector\n",
    "    \n",
    "    # returns: the magnitude of the difference between the two vectors\n",
    "\n",
    "    diff_1 = a[0]-b[0]\n",
    "    diff_2 = a[1]-b[1]\n",
    "    diff_3 = a[2]-b[2]\n",
    "    diff_mag = np.sqrt( (diff_1**2)+(diff_2**2)+(diff_3**2) )\n",
    "    return diff_mag\n",
    "\n",
    "def v_disp(a,b,c):\n",
    "    v = np.sqrt(a**2+b**2+c**2)\n",
    "    avg_v = np.sum(v)/len(v)\n",
    "    v_disp = np.zeros_like(v)\n",
    "        \n",
    "\n",
    "    for i in range(len(v)):\n",
    "        v_disp[i] = (v[i]-avg_v)**2\n",
    "            \n",
    "    return np.sqrt(np.sum(v_disp)/len(v))\n"
   ]
  },
  {
   "cell_type": "code",
   "execution_count": 12,
   "metadata": {},
   "outputs": [
    {
     "ename": "ValueError",
     "evalue": "x and y must have same first dimension, but have shapes (160,) and (1,)",
     "output_type": "error",
     "traceback": [
      "\u001b[0;31m---------------------------------------------------------------------------\u001b[0m",
      "\u001b[0;31mValueError\u001b[0m                                Traceback (most recent call last)",
      "\u001b[0;32m<ipython-input-12-581025cfaea6>\u001b[0m in \u001b[0;36m<module>\u001b[0;34m\u001b[0m\n\u001b[1;32m      5\u001b[0m \u001b[0mplt\u001b[0m\u001b[0;34m.\u001b[0m\u001b[0mylabel\u001b[0m\u001b[0;34m(\u001b[0m\u001b[0;34m\"velocity dispersion (km/s)\"\u001b[0m\u001b[0;34m)\u001b[0m\u001b[0;34m\u001b[0m\u001b[0;34m\u001b[0m\u001b[0m\n\u001b[1;32m      6\u001b[0m \u001b[0mplt\u001b[0m\u001b[0;34m.\u001b[0m\u001b[0mxlabel\u001b[0m\u001b[0;34m(\u001b[0m\u001b[0;34m\"time (Gyr)\"\u001b[0m\u001b[0;34m)\u001b[0m\u001b[0;34m\u001b[0m\u001b[0;34m\u001b[0m\u001b[0m\n\u001b[0;32m----> 7\u001b[0;31m \u001b[0mplt\u001b[0m\u001b[0;34m.\u001b[0m\u001b[0mplot\u001b[0m\u001b[0;34m(\u001b[0m\u001b[0mM33t\u001b[0m\u001b[0;34m/\u001b[0m\u001b[0;36m10e2\u001b[0m\u001b[0;34m,\u001b[0m\u001b[0mM33_v_disp\u001b[0m\u001b[0;34m)\u001b[0m\u001b[0;34m\u001b[0m\u001b[0;34m\u001b[0m\u001b[0m\n\u001b[0m\u001b[1;32m      8\u001b[0m \u001b[0mplt\u001b[0m\u001b[0;34m.\u001b[0m\u001b[0mgrid\u001b[0m\u001b[0;34m(\u001b[0m\u001b[0;34m)\u001b[0m\u001b[0;34m\u001b[0m\u001b[0;34m\u001b[0m\u001b[0m\n",
      "\u001b[0;32m~/anaconda3/lib/python3.7/site-packages/matplotlib/pyplot.py\u001b[0m in \u001b[0;36mplot\u001b[0;34m(scalex, scaley, data, *args, **kwargs)\u001b[0m\n\u001b[1;32m   2811\u001b[0m     return gca().plot(\n\u001b[1;32m   2812\u001b[0m         *args, scalex=scalex, scaley=scaley, **({\"data\": data} if data\n\u001b[0;32m-> 2813\u001b[0;31m         is not None else {}), **kwargs)\n\u001b[0m\u001b[1;32m   2814\u001b[0m \u001b[0;34m\u001b[0m\u001b[0m\n\u001b[1;32m   2815\u001b[0m \u001b[0;34m\u001b[0m\u001b[0m\n",
      "\u001b[0;32m~/anaconda3/lib/python3.7/site-packages/matplotlib/__init__.py\u001b[0m in \u001b[0;36minner\u001b[0;34m(ax, data, *args, **kwargs)\u001b[0m\n\u001b[1;32m   1808\u001b[0m                         \u001b[0;34m\"the Matplotlib list!)\"\u001b[0m \u001b[0;34m%\u001b[0m \u001b[0;34m(\u001b[0m\u001b[0mlabel_namer\u001b[0m\u001b[0;34m,\u001b[0m \u001b[0mfunc\u001b[0m\u001b[0;34m.\u001b[0m\u001b[0m__name__\u001b[0m\u001b[0;34m)\u001b[0m\u001b[0;34m,\u001b[0m\u001b[0;34m\u001b[0m\u001b[0;34m\u001b[0m\u001b[0m\n\u001b[1;32m   1809\u001b[0m                         RuntimeWarning, stacklevel=2)\n\u001b[0;32m-> 1810\u001b[0;31m             \u001b[0;32mreturn\u001b[0m \u001b[0mfunc\u001b[0m\u001b[0;34m(\u001b[0m\u001b[0max\u001b[0m\u001b[0;34m,\u001b[0m \u001b[0;34m*\u001b[0m\u001b[0margs\u001b[0m\u001b[0;34m,\u001b[0m \u001b[0;34m**\u001b[0m\u001b[0mkwargs\u001b[0m\u001b[0;34m)\u001b[0m\u001b[0;34m\u001b[0m\u001b[0;34m\u001b[0m\u001b[0m\n\u001b[0m\u001b[1;32m   1811\u001b[0m \u001b[0;34m\u001b[0m\u001b[0m\n\u001b[1;32m   1812\u001b[0m         inner.__doc__ = _add_data_doc(inner.__doc__,\n",
      "\u001b[0;32m~/anaconda3/lib/python3.7/site-packages/matplotlib/axes/_axes.py\u001b[0m in \u001b[0;36mplot\u001b[0;34m(self, scalex, scaley, *args, **kwargs)\u001b[0m\n\u001b[1;32m   1609\u001b[0m         \u001b[0mkwargs\u001b[0m \u001b[0;34m=\u001b[0m \u001b[0mcbook\u001b[0m\u001b[0;34m.\u001b[0m\u001b[0mnormalize_kwargs\u001b[0m\u001b[0;34m(\u001b[0m\u001b[0mkwargs\u001b[0m\u001b[0;34m,\u001b[0m \u001b[0mmlines\u001b[0m\u001b[0;34m.\u001b[0m\u001b[0mLine2D\u001b[0m\u001b[0;34m.\u001b[0m\u001b[0m_alias_map\u001b[0m\u001b[0;34m)\u001b[0m\u001b[0;34m\u001b[0m\u001b[0;34m\u001b[0m\u001b[0m\n\u001b[1;32m   1610\u001b[0m \u001b[0;34m\u001b[0m\u001b[0m\n\u001b[0;32m-> 1611\u001b[0;31m         \u001b[0;32mfor\u001b[0m \u001b[0mline\u001b[0m \u001b[0;32min\u001b[0m \u001b[0mself\u001b[0m\u001b[0;34m.\u001b[0m\u001b[0m_get_lines\u001b[0m\u001b[0;34m(\u001b[0m\u001b[0;34m*\u001b[0m\u001b[0margs\u001b[0m\u001b[0;34m,\u001b[0m \u001b[0;34m**\u001b[0m\u001b[0mkwargs\u001b[0m\u001b[0;34m)\u001b[0m\u001b[0;34m:\u001b[0m\u001b[0;34m\u001b[0m\u001b[0;34m\u001b[0m\u001b[0m\n\u001b[0m\u001b[1;32m   1612\u001b[0m             \u001b[0mself\u001b[0m\u001b[0;34m.\u001b[0m\u001b[0madd_line\u001b[0m\u001b[0;34m(\u001b[0m\u001b[0mline\u001b[0m\u001b[0;34m)\u001b[0m\u001b[0;34m\u001b[0m\u001b[0;34m\u001b[0m\u001b[0m\n\u001b[1;32m   1613\u001b[0m             \u001b[0mlines\u001b[0m\u001b[0;34m.\u001b[0m\u001b[0mappend\u001b[0m\u001b[0;34m(\u001b[0m\u001b[0mline\u001b[0m\u001b[0;34m)\u001b[0m\u001b[0;34m\u001b[0m\u001b[0;34m\u001b[0m\u001b[0m\n",
      "\u001b[0;32m~/anaconda3/lib/python3.7/site-packages/matplotlib/axes/_base.py\u001b[0m in \u001b[0;36m_grab_next_args\u001b[0;34m(self, *args, **kwargs)\u001b[0m\n\u001b[1;32m    391\u001b[0m                 \u001b[0mthis\u001b[0m \u001b[0;34m+=\u001b[0m \u001b[0margs\u001b[0m\u001b[0;34m[\u001b[0m\u001b[0;36m0\u001b[0m\u001b[0;34m]\u001b[0m\u001b[0;34m,\u001b[0m\u001b[0;34m\u001b[0m\u001b[0;34m\u001b[0m\u001b[0m\n\u001b[1;32m    392\u001b[0m                 \u001b[0margs\u001b[0m \u001b[0;34m=\u001b[0m \u001b[0margs\u001b[0m\u001b[0;34m[\u001b[0m\u001b[0;36m1\u001b[0m\u001b[0;34m:\u001b[0m\u001b[0;34m]\u001b[0m\u001b[0;34m\u001b[0m\u001b[0;34m\u001b[0m\u001b[0m\n\u001b[0;32m--> 393\u001b[0;31m             \u001b[0;32myield\u001b[0m \u001b[0;32mfrom\u001b[0m \u001b[0mself\u001b[0m\u001b[0;34m.\u001b[0m\u001b[0m_plot_args\u001b[0m\u001b[0;34m(\u001b[0m\u001b[0mthis\u001b[0m\u001b[0;34m,\u001b[0m \u001b[0mkwargs\u001b[0m\u001b[0;34m)\u001b[0m\u001b[0;34m\u001b[0m\u001b[0;34m\u001b[0m\u001b[0m\n\u001b[0m\u001b[1;32m    394\u001b[0m \u001b[0;34m\u001b[0m\u001b[0m\n\u001b[1;32m    395\u001b[0m \u001b[0;34m\u001b[0m\u001b[0m\n",
      "\u001b[0;32m~/anaconda3/lib/python3.7/site-packages/matplotlib/axes/_base.py\u001b[0m in \u001b[0;36m_plot_args\u001b[0;34m(self, tup, kwargs)\u001b[0m\n\u001b[1;32m    368\u001b[0m             \u001b[0mx\u001b[0m\u001b[0;34m,\u001b[0m \u001b[0my\u001b[0m \u001b[0;34m=\u001b[0m \u001b[0mindex_of\u001b[0m\u001b[0;34m(\u001b[0m\u001b[0mtup\u001b[0m\u001b[0;34m[\u001b[0m\u001b[0;34m-\u001b[0m\u001b[0;36m1\u001b[0m\u001b[0;34m]\u001b[0m\u001b[0;34m)\u001b[0m\u001b[0;34m\u001b[0m\u001b[0;34m\u001b[0m\u001b[0m\n\u001b[1;32m    369\u001b[0m \u001b[0;34m\u001b[0m\u001b[0m\n\u001b[0;32m--> 370\u001b[0;31m         \u001b[0mx\u001b[0m\u001b[0;34m,\u001b[0m \u001b[0my\u001b[0m \u001b[0;34m=\u001b[0m \u001b[0mself\u001b[0m\u001b[0;34m.\u001b[0m\u001b[0m_xy_from_xy\u001b[0m\u001b[0;34m(\u001b[0m\u001b[0mx\u001b[0m\u001b[0;34m,\u001b[0m \u001b[0my\u001b[0m\u001b[0;34m)\u001b[0m\u001b[0;34m\u001b[0m\u001b[0;34m\u001b[0m\u001b[0m\n\u001b[0m\u001b[1;32m    371\u001b[0m \u001b[0;34m\u001b[0m\u001b[0m\n\u001b[1;32m    372\u001b[0m         \u001b[0;32mif\u001b[0m \u001b[0mself\u001b[0m\u001b[0;34m.\u001b[0m\u001b[0mcommand\u001b[0m \u001b[0;34m==\u001b[0m \u001b[0;34m'plot'\u001b[0m\u001b[0;34m:\u001b[0m\u001b[0;34m\u001b[0m\u001b[0;34m\u001b[0m\u001b[0m\n",
      "\u001b[0;32m~/anaconda3/lib/python3.7/site-packages/matplotlib/axes/_base.py\u001b[0m in \u001b[0;36m_xy_from_xy\u001b[0;34m(self, x, y)\u001b[0m\n\u001b[1;32m    229\u001b[0m         \u001b[0;32mif\u001b[0m \u001b[0mx\u001b[0m\u001b[0;34m.\u001b[0m\u001b[0mshape\u001b[0m\u001b[0;34m[\u001b[0m\u001b[0;36m0\u001b[0m\u001b[0;34m]\u001b[0m \u001b[0;34m!=\u001b[0m \u001b[0my\u001b[0m\u001b[0;34m.\u001b[0m\u001b[0mshape\u001b[0m\u001b[0;34m[\u001b[0m\u001b[0;36m0\u001b[0m\u001b[0;34m]\u001b[0m\u001b[0;34m:\u001b[0m\u001b[0;34m\u001b[0m\u001b[0;34m\u001b[0m\u001b[0m\n\u001b[1;32m    230\u001b[0m             raise ValueError(\"x and y must have same first dimension, but \"\n\u001b[0;32m--> 231\u001b[0;31m                              \"have shapes {} and {}\".format(x.shape, y.shape))\n\u001b[0m\u001b[1;32m    232\u001b[0m         \u001b[0;32mif\u001b[0m \u001b[0mx\u001b[0m\u001b[0;34m.\u001b[0m\u001b[0mndim\u001b[0m \u001b[0;34m>\u001b[0m \u001b[0;36m2\u001b[0m \u001b[0;32mor\u001b[0m \u001b[0my\u001b[0m\u001b[0;34m.\u001b[0m\u001b[0mndim\u001b[0m \u001b[0;34m>\u001b[0m \u001b[0;36m2\u001b[0m\u001b[0;34m:\u001b[0m\u001b[0;34m\u001b[0m\u001b[0;34m\u001b[0m\u001b[0m\n\u001b[1;32m    233\u001b[0m             raise ValueError(\"x and y can be no greater than 2-D, but have \"\n",
      "\u001b[0;31mValueError\u001b[0m: x and y must have same first dimension, but have shapes (160,) and (1,)"
     ]
    },
    {
     "data": {
      "image/png": "[encoded data removed]",
      "text/plain": [
       "<Figure size 720x576 with 1 Axes>"
      ]
     },
     "metadata": {
      "needs_background": "light"
     },
     "output_type": "display_data"
    }
   ],
   "source": [
    "M33_v_disp = np.zeros\n",
    "v_disp(M33_vel[:,0],M33_vel[:,1],M33_vel[:,2])\n",
    "\n",
    "plt.figure(figsize=(10,8))\n",
    "plt.title(\"M33 Veloicty Dispersion\")\n",
    "plt.ylabel(\"velocity dispersion (km/s)\")\n",
    "plt.xlabel(\"time (Gyr)\")\n",
    "plt.plot(M33t/10e2,M33_v_disp)\n",
    "plt.grid()"
   ]
  },
  {
   "cell_type": "code",
   "execution_count": null,
   "metadata": {},
   "outputs": [],
   "source": [
    "# make empty arrays for the relative distances\n",
    "MW_M31_pos = np.zeros(160)\n",
    "M31_M33_pos = np.zeros(160)\n",
    "# make empty arrays for relative velocities\n",
    "MW_M31_vel = np.zeros(160)\n",
    "M31_M33_vel = np.zeros(160)\n"
   ]
  },
  {
   "cell_type": "code",
   "execution_count": null,
   "metadata": {},
   "outputs": [],
   "source": [
    "# Determine the magnitude of the relative position and velocities \n",
    "\n",
    "\n",
    "for i in range(160):\n",
    "    \n",
    "    # of MW and M31\n",
    "    MW_M31_pos[i] = Difference(MW_pos[:,i],M31_pos[:,i])\n",
    "    MW_M31_vel[i] = Difference(MW_vel[:,i],M31_vel[:,i])\n",
    "    \n",
    "    # of M33 and M31\n",
    "    M31_M33_pos[i] = Difference(M31_pos[:,i],M33_pos[:,i])\n",
    "    M31_M33_vel[i] = Difference(M31_vel[:,i],M33_vel[:,i])\n",
    "\n"
   ]
  },
  {
   "cell_type": "code",
   "execution_count": null,
   "metadata": {},
   "outputs": [],
   "source": [
    "# Plot the Orbit of the galaxies \n",
    "#################################r\n",
    "plt.figure(figsize=(10,8))\n",
    "plt.title(\"Galaxy Relative positions\")\n",
    "plt.ylabel(\"magnitude of separation (kpc)\")\n",
    "plt.xlabel(\"time (Gyr)\")\n",
    "plt.plot(MWt/10e2,MW_M31_pos, label=\"MW-M31\")\n",
    "plt.plot(M31t/10e2,M31_M33_pos, label=\"M31-M33\")\n",
    "plt.plot(M31t[125]/1000,M31_M33_pos[125],\"o\",label=\"Apocenter 2\")\n",
    "plt.plot(M31t[105]/1000,M31_M33_pos[105],\"o\",label=\"Apocenter 1\")\n",
    "plt.grid()\n",
    "plt.legend()\n",
    "plt.show()\n"
   ]
  },
  {
   "cell_type": "code",
   "execution_count": null,
   "metadata": {},
   "outputs": [],
   "source": [
    "# Plot the orbital velocities of the galaxies \n",
    "#################################\n",
    "plt.figure(figsize=(10,8))\n",
    "plt.title(\"Orbital Velocities\")\n",
    "plt.ylabel(\"velocity (km/s)\")\n",
    "plt.xlabel(\"time (Gyr)\")\n",
    "plt.plot(MWt/1000,MW_M31_vel, label=\"MW-M31\")\n",
    "plt.plot(M31t/1000,M31_M33_vel, label=\"M31-M33\")\n",
    "\n",
    "plt.legend()\n",
    "plt.grid()\n",
    "plt.show()"
   ]
  },
  {
   "cell_type": "markdown",
   "metadata": {},
   "source": [
    "### Questions"
   ]
  },
  {
   "cell_type": "markdown",
   "metadata": {},
   "source": [
    "#### 1. How many close encounters will MW and M31 Experience in the future?\n",
    "\n",
    "   2, or 3 if you count the merge as a close encounter\n",
    "    \n",
    "#### 2. How is the time evolution of the separation and relative velocity related?\n",
    "\n",
    " They are inversely related -- when the galaxies draw apart, their relative velocity increases. When they draw close again, their relative velocity decreases.\n",
    " \n",
    "#### 3. When do M31 and the MW Merge?\n",
    "\n",
    "My simulation shows the two galaxies merging at approximately 6.75 Gyrs\n",
    "\n",
    "#### 4. What is the decay rate of M33's orbit?\n",
    "\n",
    "Roughly -1 pc/Gyr. That's really slow. It'll take another 75 billion years to merge with M31+MW if the rate is constant."
   ]
  },
  {
   "cell_type": "code",
   "execution_count": null,
   "metadata": {},
   "outputs": [],
   "source": [
    "plt.figure(figsize=(10,8))\n",
    "plt.title(\"Relative velocities and positions, support for Question 2\")\n",
    "plt.plot(M31t/1000,MW_M31_vel,\"--\" ,label=\"MW-M31 velocity\")\n",
    "plt.plot(M31t/1000,MW_M31_pos,label=\"MW-M31 position\")\n",
    "plt.plot(M31t/1000,M31_M33_vel, \"--\" ,label=\"M31-M33 vel\")\n",
    "plt.plot(M31t/10e2,M31_M33_pos, label=\"M31-M33 pos\")\n",
    "plt.xlabel(\"time (Gyr)\")\n",
    "plt.legend()\n",
    "plt.show()"
   ]
  },
  {
   "cell_type": "code",
   "execution_count": null,
   "metadata": {},
   "outputs": [],
   "source": [
    "plt.figure(figsize=(10,8))\n",
    "plt.title(\"Support for Question 3\")\n",
    "plt.ylabel(\"log(magnitude of separation (kpc))\")\n",
    "\n",
    "plt.grid()\n",
    "plt.xlabel(\"time (Gyr)\")\n",
    "plt.plot(MWt/10e2,MW_M31_pos, label=\"MW-M31\")\n",
    "plt.show()\n",
    "\n",
    "plt.figure(figsize=(10,8))\n",
    "plt.title(\"Zoom-in on MW-M31 merger\")\n",
    "plt.ylabel(\"magnitude of separation (kpc)\")\n",
    "plt.xlim(6,10)\n",
    "plt.grid()\n",
    "plt.xlabel(\"time (Gyr)\")\n",
    "plt.plot(MWt/10e2,MW_M31_pos, label=\"MW-M31\")\n",
    "plt.show()"
   ]
  },
  {
   "cell_type": "code",
   "execution_count": null,
   "metadata": {},
   "outputs": [],
   "source": [
    "# calculate the decay rate of M33's orbit after 6 Gyrs\n",
    "decay_rate = ((M31_M33_pos[105]-M31_M33_pos[125])*10**3)/((M33t[105]-M33t[125])*(10**9))\n",
    "print(decay_rate)"
   ]
  },
  {
   "cell_type": "code",
   "execution_count": null,
   "metadata": {},
   "outputs": [],
   "source": []
  },
  {
   "cell_type": "code",
   "execution_count": null,
   "metadata": {},
   "outputs": [],
   "source": []
  }
 ],
 "metadata": {
  "kernelspec": {
   "display_name": "Python 3",
   "language": "python",
   "name": "python3"
  },
  "language_info": {
   "codemirror_mode": {
    "name": "ipython",
    "version": 3
   },
   "file_extension": ".py",
   "mimetype": "text/x-python",
   "name": "python",
   "nbconvert_exporter": "python",
   "pygments_lexer": "ipython3",
   "version": "3.7.1"
  }
 },
 "nbformat": 4,
 "nbformat_minor": 2
}
