{
 "cells": [
  {
   "cell_type": "code",
   "execution_count": 1,
   "metadata": {},
   "outputs": [],
   "source": [
    "# Homework 6 Template\n",
    "# G. Besla & R. Li"
   ]
  },
  {
   "cell_type": "code",
   "execution_count": 3,
   "metadata": {},
   "outputs": [],
   "source": [
    "# import modules\n",
    "import numpy as np\n",
    "import astropy.units as u\n",
    "from astropy.constants import G\n",
    "\n",
    "# import plotting modules\n",
    "import matplotlib.pyplot as plt\n",
    "import matplotlib\n",
    "%matplotlib inline\n",
    "\n",
    "# my modules\n",
    "from Readfile import Read\n",
    "# Step 1: modify CenterOfMass so that COM_P now takes a parameter specifying \n",
    "# by how much to decrease RMAX instead of a factor of 2\n",
    "from CenterOfMass import CenterOfMass\n",
    "\n"
   ]
  },
  {
   "cell_type": "code",
   "execution_count": 23,
   "metadata": {},
   "outputs": [],
   "source": [
    "def OrbitCOM(galaxy, start, end, n):\n",
    "    \n",
    "    \"\"\"function that loops over all the desired snapshots to compute the COM pos and vel as a function of time.\n",
    "    inputs:\n",
    "        galaxy: the name of the galaxy, input as string, eg: \"MW\"\n",
    "        start: the number of the first snapshot to be read\n",
    "        end: the number of the last snapshot to be read\n",
    "        n: an integer indicating the intervals over which COM is returned\n",
    "          \n",
    "    returns: tbd\n",
    "    \"\"\"\n",
    "    \n",
    "    # compose the filename for output\n",
    "    fileout = \"Orbit_%s\" %galaxy + \".txt\"\n",
    "    \n",
    "    #  set tolerance and VolDec for calculating COM_P in CenterOfMass\n",
    "    # for M33 that is stripped more, use different values for VolDec\n",
    "    if galaxy == \"M33\":\n",
    "        delta = 0.1\n",
    "        VolDec = 4\n",
    "    else:\n",
    "        delta = 0.1\n",
    "        VolDec = 10\n",
    "        \n",
    "    # generate the snapshot id sequence \n",
    "    snap_ids = np.arange(start,end,n)\n",
    "    print(snap_ids[10:15])\n",
    "    # it is always a good idea to also check if the input is eligible (not required)\n",
    "    \n",
    "    # initialize the array for orbital info: t, x, y, z, vx, vy, vz of COM\n",
    "    orbit = np.zeros([len(snap_ids),7])\n",
    "    \n",
    "    # a for loop \n",
    "    for i, snap_id in enumerate(snap_ids): # loop over files\n",
    "        \n",
    "        # compose the data filename (be careful about the folder)\n",
    "        filename = \"/home/astr400b/VLowRes/%s\" %(galaxy) + \"_00\" + str(snap_ids[i]) + \".txt\"\n",
    "    \n",
    "        # Initialize an instance of CenterOfMass class, using disk particles\n",
    "        COM = CenterOfMass(filename,2)\n",
    "        # Store the COM pos and vel. Remember that now COM_P required VolDec\n",
    "        GalCOMP = COM.COM_P(delta, VolDec)\n",
    "        GalCOMV = COM.COM_V(GalCOMP[0],GalCOMP[1],GalCOMP[2])\n",
    "    \n",
    "        # store the time, pos, vel in ith element of the orbit array,  without units (.value)\n",
    "        orbit[i] = COM.time, GalCOMP[0], GalCOMP[1], GalCOMP[2], GalCOMV[0], GalCOMV[1], GalCOMV[2]\n",
    "        # note that you can store \n",
    "        # a[i] = var1, *tuple(array1)\n",
    "\n",
    "        \n",
    "        # print snap_id to see the progress\n",
    "        print(snap_id)\n",
    "        \n",
    "    # write the data to a file\n",
    "    # we do this because we don't want to have to repeat this process \n",
    "    # this code should only have to be called once per galaxy.\n",
    "    np.savetxt(fileout, orbit, header=\"t x y z vx vy vz\", comments=\"#\", fmt=[\"%.2f\",\"%.2f\",\"%.2f\",\"%.2f\",\"%.2f\",\"%.2f\",\"%.2f\"])"
   ]
  },
  {
   "cell_type": "code",
   "execution_count": 24,
   "metadata": {},
   "outputs": [
    {
     "name": "stdout",
     "output_type": "stream",
     "text": [
      "[]\n",
      "0\n",
      "1\n",
      "2\n"
     ]
    }
   ],
   "source": [
    "# Recover the orbits and generate the COM files for each galaxy\n",
    "# read in 800 snapshots in intervals of n=5\n",
    "# Note: This might take a little while - test your code with a smaller number of snapshots first! \n",
    "MWay = OrbitCOM(\"MW\",0,3,1)"
   ]
  },
  {
   "cell_type": "code",
   "execution_count": null,
   "metadata": {},
   "outputs": [],
   "source": [
    "# Read in the data files for the orbits of each galaxy that you just created\n",
    "# headers:  t, x, y, z, vx, vy, vz\n",
    "# using np.genfromtxt\n",
    "\n",
    "time, xpos, ypos, zpos, vx, vy, vz = np.genfromtxt\n",
    "\n",
    "\n"
   ]
  },
  {
   "cell_type": "code",
   "execution_count": null,
   "metadata": {},
   "outputs": [],
   "source": [
    "# function to compute the magnitude of the difference between two vectors \n",
    "# You can use this funcMtion to return both the relative position and relative velocity for two \n",
    "# galaxies over the entire orbit  \n"
   ]
  },
  {
   "cell_type": "code",
   "execution_count": null,
   "metadata": {},
   "outputs": [],
   "source": [
    "# Determine the magnitude of the relative position and velocities \n",
    "\n",
    "# of MW and M31\n",
    "\n",
    "# of M33 and M31\n"
   ]
  },
  {
   "cell_type": "code",
   "execution_count": null,
   "metadata": {},
   "outputs": [],
   "source": [
    "# Plot the Orbit of the galaxies \n",
    "#################################\n",
    "\n"
   ]
  },
  {
   "cell_type": "code",
   "execution_count": null,
   "metadata": {},
   "outputs": [],
   "source": [
    "# Plot the orbital velocities of the galaxies \n",
    "#################################\n"
   ]
  },
  {
   "cell_type": "code",
   "execution_count": null,
   "metadata": {},
   "outputs": [],
   "source": []
  }
 ],
 "metadata": {
  "kernelspec": {
   "display_name": "Python 3",
   "language": "python",
   "name": "python3"
  },
  "language_info": {
   "codemirror_mode": {
    "name": "ipython",
    "version": 3
   },
   "file_extension": ".py",
   "mimetype": "text/x-python",
   "name": "python",
   "nbconvert_exporter": "python",
   "pygments_lexer": "ipython3",
   "version": "3.7.1"
  }
 },
 "nbformat": 4,
 "nbformat_minor": 2
}
